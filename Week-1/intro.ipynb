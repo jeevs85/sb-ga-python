{
 "cells": [
  {
   "cell_type": "code",
   "execution_count": 2,
   "metadata": {},
   "outputs": [
    {
     "name": "stdout",
     "output_type": "stream",
     "text": [
      "helloworld\n"
     ]
    }
   ],
   "source": [
    "print(\"helloworld\")"
   ]
  },
  {
   "cell_type": "code",
   "execution_count": 10,
   "metadata": {},
   "outputs": [
    {
     "name": "stdout",
     "output_type": "stream",
     "text": [
      "Hello world, my name is Sanjeev Balasunderam and i am 36 years old\n",
      "0\n",
      "42\n",
      "0\n",
      "0.9090909090909091\n",
      "22\n",
      "37\n",
      "2.35\n"
     ]
    }
   ],
   "source": [
    "#variables\n",
    "first_name = \"Sanjeev\" #string\n",
    "last_name = \"Balasunderam\"\n",
    "full_name = \"Sanjeev Balasunderam\"\n",
    "age = 36\n",
    "integer = 1\n",
    "float = .234\n",
    "has_yachts = False #boolean\n",
    "test = integer + float\n",
    "\n",
    "a = b +2\n",
    "b =20\n",
    "c = 3\n",
    "\n",
    "#string interpolation \n",
    "print(f'Hello world, my name is {full_name} and i am {age} years old')\n",
    "\n",
    "#arthmetic operators\n",
    "\n",
    "print (b//a)\n",
    "print (a+b)\n",
    "print (int(b/a))\n",
    "print (b/a)\n",
    "print (a)\n",
    "\n",
    "# update operators\n",
    "\n",
    "current_age = 36\n",
    "current_age += 1 \n",
    "print (current_age)\n",
    "\n",
    "price_of_gas = 2.15\n",
    "price_of_gas += 0.2\n",
    "\n",
    "print(price_of_gas)\n"
   ]
  },
  {
   "cell_type": "code",
   "execution_count": null,
   "metadata": {},
   "outputs": [],
   "source": []
  }
 ],
 "metadata": {
  "interpreter": {
   "hash": "ff8820d68103f65a32e220fbaf67767b0ea0975cfea834e25ea838c1356d577f"
  },
  "kernelspec": {
   "display_name": "Python 3.10.5 64-bit",
   "language": "python",
   "name": "python3"
  },
  "language_info": {
   "codemirror_mode": {
    "name": "ipython",
    "version": 3
   },
   "file_extension": ".py",
   "mimetype": "text/x-python",
   "name": "python",
   "nbconvert_exporter": "python",
   "pygments_lexer": "ipython3",
   "version": "3.10.5"
  },
  "orig_nbformat": 4
 },
 "nbformat": 4,
 "nbformat_minor": 2
}
