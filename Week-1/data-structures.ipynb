{
 "cells": [
  {
   "cell_type": "code",
   "execution_count": 16,
   "metadata": {},
   "outputs": [
    {
     "name": "stdout",
     "output_type": "stream",
     "text": [
      "['mon', 'Tue', 'Wed', 'Thu', 'Fri', 'Sat', 'Sun']\n",
      "['Pavel', 'Sanjeev', 'Son']\n",
      "['Pavel', 'Son']\n",
      "Sanjeev\n",
      "['Pavel', 'Sanjeev', 'Son']\n",
      "1\n"
     ]
    }
   ],
   "source": [
    "#lists \n",
    "#zero indexed\n",
    "\n",
    "names = [] #creates an empty list\n",
    "\n",
    "days_of_week = ['mon', 'Tue', 'Wed', 'Thu', 'Fri', 'Sat', 'Sun']\n",
    "\n",
    "colors = list() # using the list constructor\n",
    "\n",
    "print (days_of_week)\n",
    "\n",
    "names.append ('Pavel')\n",
    "names.append ('Sanjeev')\n",
    "names.append ('Son')\n",
    "print (names)\n",
    "\n",
    "no_of_names = len(names)\n",
    "\n",
    "pos_one_in_list = names.pop(1)\n",
    "print (names)\n",
    "print (pos_one_in_list)\n",
    "names.insert(1, pos_one_in_list)\n",
    "print (names)\n",
    "no_of_sanjeev = names.count('Sanjeev')\n",
    "print(no_of_sanjeev)\n",
    "\n"
   ]
  },
  {
   "cell_type": "code",
   "execution_count": 44,
   "metadata": {},
   "outputs": [
    {
     "name": "stdout",
     "output_type": "stream",
     "text": [
      "{'make': 'Toyota', 'model': 'Corolla', 'year': '2020'}\n",
      "{'name': ('John', 'Sanjeev'), 'age': (10, 15)}\n",
      "Billy\n",
      "{'name': 'Priscilla', 'age': 29, 'address': 'Toronto'}\n"
     ]
    }
   ],
   "source": [
    "#dictionaries \n",
    "#a collection of key: value pairs\n",
    "\n",
    "person = {} # an empty dictionary\n",
    "city = dict()\n",
    "\n",
    "car = { 'make': 'Toyota', 'model': 'Corolla', 'year' : '2020'}\n",
    "print (car) \n",
    "\n",
    "person['name'] = 'John', 'Sanjeev'\n",
    "person['age'] = 10, 15\n",
    "\n",
    "print(person)\n",
    "#keys in a dictionary are unique\n",
    "\n",
    "class_list =[]\n",
    "class_list.append ({'name': 'pavel', 'age' :24, 'address': 'Toronto', 'pet' :{'type': 'dog', 'name': 'Billy', 'age' :2}})\n",
    "class_list.append ({'name': 'Enzo', 'age' :25, 'address': 'Toronto'})\n",
    "class_list.append ({'name': 'Sanjeev', 'age' :26, 'address': 'Toronto'})\n",
    "class_list.append ({'name': 'Ella', 'age' :27, 'address': 'Toronto'})\n",
    "class_list.append ({'name': 'Son', 'age' :28, 'address': 'Toronto'})\n",
    "class_list.append ({'name': 'Priscilla', 'age' :29, 'address': 'Toronto'})\n",
    "\n",
    "\n",
    "\n",
    "print (class_list [0]['pet']['name'])\n",
    "\n",
    "person = class_list [-1]\n",
    "\n",
    "print (person)\n"
   ]
  }
 ],
 "metadata": {
  "interpreter": {
   "hash": "ff8820d68103f65a32e220fbaf67767b0ea0975cfea834e25ea838c1356d577f"
  },
  "kernelspec": {
   "display_name": "Python 3.10.5 64-bit",
   "language": "python",
   "name": "python3"
  },
  "language_info": {
   "codemirror_mode": {
    "name": "ipython",
    "version": 3
   },
   "file_extension": ".py",
   "mimetype": "text/x-python",
   "name": "python",
   "nbconvert_exporter": "python",
   "pygments_lexer": "ipython3",
   "version": "3.10.5"
  },
  "orig_nbformat": 4
 },
 "nbformat": 4,
 "nbformat_minor": 2
}
