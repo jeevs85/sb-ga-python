{
 "cells": [
  {
   "cell_type": "code",
   "execution_count": 11,
   "metadata": {},
   "outputs": [
    {
     "name": "stdout",
     "output_type": "stream",
     "text": [
      "['red', 'blue', 'yellow', 'green', 'purple', 'pink', 'orange']\n",
      "yellow\n",
      "the colors of the rainbows are ['red', 'blue', 'yellow', 'green', 'purple', 'pink', 'orange']\n",
      "the colors of the rainbows are ['red', 'deep sea blue', 'lightning yellow', 'green', 'purple', 'pink', 'orange']\n",
      "lightning yellow orange\n"
     ]
    }
   ],
   "source": [
    " #2.1 Colors of the Rainbow\\n\",\n",
    "#  \"# A. Make a list called colors that stores 7 strings, each a color of the rainbow\\n\",\n",
    "colors = ['red', 'blue', 'yellow', 'green', 'purple' , 'pink', 'orange'] \n",
    "#    \"# B. Then, print the following string, using list indices to access the specific colors:\\n\",\n",
    "\n",
    "print ( colors)\n",
    "print (colors[2])\n",
    "#   \"# \\\"The colors of the rainbow are red, orange, yellow, green, blue, indigo, and violet\\\"\\n\",\n",
    "#    \"#  String concatenation might get a bit complex to read: try using an f-string for string interpolation!\\n\",\n",
    "\n",
    "print(f\"the colors of the rainbows are {colors}\")\n",
    "#    \"# C. Change two of the colors to more descriptive names, such as \\\"Lightning Yellow\\\" or \\\"Deep Sea Blue\\\"\\n\",\n",
    "colors[2] = 'lightning yellow'\n",
    "colors[1] = 'deep sea blue'\n",
    "print(f\"the colors of the rainbows are {colors}\")\n",
    "#    \"# D. Print the two new color names using list indices to access them\\n\",\n",
    "print( colors[2], colors[6])\n",
    "#    \"# E. Print the colors variable to see the difference between printing a specific item and printing the list itself\""
   ]
  },
  {
   "cell_type": "code",
   "execution_count": 31,
   "metadata": {},
   "outputs": [
    {
     "name": "stdout",
     "output_type": "stream",
     "text": [
      "['Aaron', 'Alyce', 'Boris', 'Carmen', 'Diego']\n",
      "Boris's position is guaranteed\n",
      "['Aaron', 'Alyce', 'Boris', 'Diego']\n",
      "['Alyce', 'Boris', 'Diego']\n",
      "['Alyce', 'DeSean', 'Boris', 'Diego']\n"
     ]
    }
   ],
   "source": [
    "#\"# 2.2 The Wait List\\n\",\n",
    "#    \"# You will have to research some new methods to use for these challenges\\n\",\n",
    "#    \"# You can use print statements to investigate whether your changes have succeeded as expected\\n\",\n",
    "candidates = [\"Alice\", \"Boris\", \"Carmen\"]\n",
    "\n",
    "#    \"# A. A promising new applicant, Diego, needs to be added to the end of the list\\n\",\n",
    "candidates.insert(3,\"Diego\") \n",
    "\n",
    "##    \"# B. Alice has informed us of a typo on their application: change their name to \\\"Alyce\\\"\\n\",\n",
    "candidates [0] = \"Alyce\"\n",
    "\n",
    "#    \"# C. One of our generous donors has a nephew, Aaron, who should be added to the very front of the list\\n\",\n",
    "candidates.insert(0,\"Aaron\") \n",
    "print( candidates)\n",
    "#    \"# D. Boris's parents are concerned. Use the .index() method to print a message explaining Boris's place in the list\\n\",\n",
    "print(f\"{candidates[2]}'s position is guaranteed\")\n",
    "#    \"# E. Carmen is upset by the priority given to relatives of donors, and has withdrawn their application.\\n\",\n",
    "#    \"#    Use the .remove() method to remove them from the list.\\n\",\n",
    "candidates.remove(\"Carmen\") \n",
    "print( candidates)\n",
    "#    \"# F. Use a method to remove the very first student in the list, as they have now been accepted!\\n\",\n",
    "candidates.pop(0)\n",
    "print( candidates)\n",
    "#    \"# G. DeSean has submitted an impressive personal statement. Place them at index 1 by using .insert()\\n\",\n",
    "candidates.insert(1,\"DeSean\") \n",
    "#    \"# H. We've been audited by the Board for Educational Fairness! Print the list of candidates.\\n\",\n",
    "print( candidates)\n",
    "#    \"#    It should look like this: [\\\"Alyce\\\", \\\"DeSean\\\", Boris\\\", \\\"Diego\\\"]\""
   ]
  },
  {
   "cell_type": "code",
   "execution_count": 61,
   "metadata": {},
   "outputs": [
    {
     "name": "stdout",
     "output_type": "stream",
     "text": [
      "this 3 bedroom house costs 750000\n",
      "{'address': '123 Fake Street', 'price': 825000.0000000001, 'bedrooms': 3, 'zip_code': 95404}\n",
      "the value per foot is 1100\n",
      "{'address': '123 Fake Street', 'price': 825000.0000000001, 'bedrooms': 3, 'zip_code': 95404, 'square_feet': 750, 'status': 'Sold'}\n"
     ]
    }
   ],
   "source": [
    "# 2.3 Key Value Properties\\n\",\n",
    "#    \"# Use the house dictionary for the following challenges\\n\",\n",
    "house = { \"address\": \"123 Fake Street\", \"price\": 750000, \"bedrooms\": 3}\n",
    "\n",
    "##    \"# A. Buyers can't find the house without a zip code! Add a zip_code property equal to \\\"95404\\\"\\n\",\n",
    "\n",
    "house = { \"address\": \"123 Fake Street\", \"price\": 750000, \"bedrooms\": 3, \"zip_code\": 95404}\n",
    "\n",
    "\n",
    "\n",
    "#    \"# B. Our web designers want a statement reading: \\\"This 3 bedroom house costs 250000\\\"\\n\",\n",
    "#    \"#    Print that statement by accessing the values from the dictionary: do NOT \\\"hard-code\\\" the string!\\n\",\n",
    "print(\"this \"+ str(house[\"bedrooms\"]) + \" bedroom house costs \" + str(house[\"price\"]))\n",
    "#    \"# C. We're getting a lot of interest in the house! Let's increase the price by 10%\\n\",\n",
    "house[\"price\"] *=1.1\n",
    "print (house)\n",
    "#    \"# D. Buyers are surprised at how small the house is. Let's add a square_feet property equal to 750\\n\",\n",
    "house [\"square_feet\"] = 750\n",
    "\n",
    "#    \"# E. We want to show off the value per foot. Print a message explaining the price per square foot.\\n\",\n",
    "price = house[\"price\"]\n",
    "square_foot= house[\"square_feet\"]\n",
    "value_per_foot = int(price/square_foot)\n",
    "print(\"the value per foot is \" +str(value_per_foot)) \n",
    "#    \"# F. After 2 long hours on the market, the house has finally sold! Add a status property equal to \\\"sold\\\"\\n\",\n",
    "house [\"status\"] = \"Sold\"\n",
    "#    \"# G. Print the entire listing. You should see a dictionary similar to the following:\\n\",\n",
    "\n",
    "print (house)\n",
    "#    \"# {address: \\\"123 Fake Street\\\", price: 825000, bedrooms: 3, zip_code: \\\"95404\\\" square_feet: 750, status: \\\"sold\\\"}\""
   ]
  },
  {
   "cell_type": "code",
   "execution_count": null,
   "metadata": {},
   "outputs": [],
   "source": [
    "# 2.4 Python Librarian\\n\",\n",
    "   \"authors = {\\n\",\n",
    "    \"    \\\"Arundhati Roy\\\": {\\n\",\n",
    "    \"        \\\"genre\\\": \\\"literary fiction\\\",\\n\",\n",
    "    \"        \\\"books\\\": [\\n\",\n",
    "    \"            \\\"The God of Small Things\\\",\\n\",\n",
    "    \"            \\\"The Ministry of Utmost Happiness\\\"\\n\",\n",
    "    \"        ],\\n\",\n",
    "    \"        \\\"active\\\": True\\n\",\n",
    "    \"    },\\n\",\n",
    "    \"    \\\"Brandon Sanderson\\\": {\\n\",\n",
    "    \"        \\\"genre\\\": \\\"fantasy\\\",\\n\",\n",
    "    \"        \\\"books\\\": [\\n\",\n",
    "    \"            \\\"The Way of Kings\\\",\\n\",\n",
    "    \"            \\\"Words of Radiance\\\",\\n\",\n",
    "    \"            \\\"Oathbringer\\\"\\n\",\n",
    "    \"        ],\\n\",\n",
    "    \"        \\\"active\\\": True,\\n\",\n",
    "    \"        \\\"phone\\\": {\\n\",\n",
    "    \"            \\\"home\\\": \\\"(281) 330-8004\\\",\\n\",\n",
    "    \"            \\\"work\\\": \\\"(877) CASH-NOW\\\"\\n\",\n",
    "    \"        }\\n\",\n",
    "    \"    },\\n\",\n",
    "    \"    \\\"Kobo Abe\\\": {\\n\",\n",
    "    \"        \\\"genre\\\": \\\"absurdist fiction\\\",\\n\",\n",
    "    \"        \\\"books\\\": [\\n\",\n",
    "    \"            \\\"The Woman in the Dunes\\\",\\n\",\n",
    "    \"            \\\"The Face of Another\\\"\\n\",\n",
    "    \"        ],\\n\",\n",
    "    \"        \\\"active\\\": False\\n\",\n",
    "    \"    },\\n\",\n",
    "    \"}\"\n",
    "   ]\n",
    "  },\n",
    "\n",
    "    \"# A. Access and print Arundhati Roy's first book\"\n",
    "   ]\n",
    "  },\n",
    "  {\n",
    "   \"cell_type\": \"code\",\n",
    "   \"execution_count\": null,\n",
    "   \"metadata\": {},\n",
    "   \"outputs\": [],\n",
    "   \"source\": [\n",
    "    \"# B. We need to contact Brandon at work: access and print their work phone number\"\n",
    "   ]\n",
    "  },\n",
    "  {\n",
    "   \"cell_type\": \"code\",\n",
    "   \"execution_count\": null,\n",
    "   \"metadata\": {},\n",
    "   \"outputs\": [],\n",
    "   \"source\": [\n",
    "    \"# C. Create a list composed of all the genres available in our library\"\n",
    "   ]\n",
    "  },\n",
    "  {\n",
    "   \"cell_type\": \"code\",\n",
    "   \"execution_count\": null,\n",
    "   \"metadata\": {},\n",
    "   \"outputs\": [],\n",
    "   \"source\": [\n",
    "# D. Create a list of all books available in our library\"\n",
    "# E. Arundhati has decided to expand their range of genres and tackle non-fiction\\n\",\n",
    "#    Modify their \\\"genre\\\" property to now be a list that also includes non-fiction\"\n",
    "#    \"# F. Brandon Sanderson is retiring. Change their active property to False.\\n\",\n",
    "#    \"#    BONUS: This means we should no longer contact them. Delete their \\\"phone\\\" property\"\n",
    "\n",
    "\n",
    "#    \"# G. Add a new author to our collection of your choice. Make sure they have:\\n\",\n",
    "##    \"#    i. A genre property equal to a string or list of strings\\n\",\n",
    "#   \"#    ii. A books property equal to a list of strings\\n\",\n",
    "#    \"#    iii. An active property equal to a boolean\\n\",\n",
    "#    \"#    iv. Another property that is also a dictionary with one or more properties\""
   ]
  },
  {
   "cell_type": "code",
   "execution_count": null,
   "metadata": {},
   "outputs": [],
   "source": []
  }
 ],
 "metadata": {
  "interpreter": {
   "hash": "ff8820d68103f65a32e220fbaf67767b0ea0975cfea834e25ea838c1356d577f"
  },
  "kernelspec": {
   "display_name": "Python 3.10.5 64-bit",
   "language": "python",
   "name": "python3"
  },
  "language_info": {
   "codemirror_mode": {
    "name": "ipython",
    "version": 3
   },
   "file_extension": ".py",
   "mimetype": "text/x-python",
   "name": "python",
   "nbconvert_exporter": "python",
   "pygments_lexer": "ipython3",
   "version": "3.10.5"
  },
  "orig_nbformat": 4
 },
 "nbformat": 4,
 "nbformat_minor": 2
}
