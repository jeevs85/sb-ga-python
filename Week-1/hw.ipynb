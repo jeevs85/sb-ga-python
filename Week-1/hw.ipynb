{
 "cells": [
  {
   "cell_type": "code",
   "execution_count": 1,
   "metadata": {},
   "outputs": [],
   "source": [
    "# 2.1 Colors of the Rainbow\n",
    "# A. Make a list called colors that stores 7 strings, each a color of the rainbow\n",
    "\n",
    "# B. Then, print the following string, using list indices to access the specific colors:\n",
    "# \"The colors of the rainbow are red, orange, yellow, green, blue, indigo, and violet\"\n",
    "#  String concatenation might get a bit complex to read: try using an f-string for string interpolation!\n",
    "\n",
    "# C. Change two of the colors to more descriptive names, such as \"Lightning Yellow\" or \"Deep Sea Blue\"\n",
    "\n",
    "# D. Print the two new color names using list indices to access them\n",
    "\n",
    "# E. Print the colors variable to see the difference between printing a specific item and printing the list itself"
   ]
  },
  {
   "cell_type": "code",
   "execution_count": null,
   "metadata": {},
   "outputs": [],
   "source": [
    "# 2.2 The Wait List\n",
    "# You will have to research some new methods to use for these challenges\n",
    "# You can use print statements to investigate whether your changes have succeeded as expected\n",
    "candidates = [\"Alice\", \"Boris\", \"Carmen\"]\n",
    "\n",
    "# A. A promising new applicant, Diego, needs to be added to the end of the list\n",
    "\n",
    "# B. Alice has informed us of a typo on their application: change their name to \"Alyce\"\n",
    "\n",
    "# C. One of our generous donors has a nephew, Aaron, who should be added to the very front of the list\n",
    "\n",
    "# D. Boris's parents are concerned. Use the .index() method to print a message explaining Boris's place in the list\n",
    "\n",
    "# E. Carmen is upset by the priority given to relatives of donors, and has withdrawn their application.\n",
    "#    Use the .remove() method to remove them from the list.\n",
    "\n",
    "# F. Use a method to remove the very first student in the list, as they have now been accepted!\n",
    "\n",
    "# G. DeSean has submitted an impressive personal statement. Place them at index 1 by using .insert()\n",
    "\n",
    "# H. We've been audited by the Board for Educational Fairness! Print the list of candidates.\n",
    "#    It should look like this: [\"Alyce\", \"DeSean\", Boris\", \"Diego\"]"
   ]
  },
  {
   "cell_type": "code",
   "execution_count": null,
   "metadata": {},
   "outputs": [],
   "source": [
    "# 2.3 Key Value Properties\n",
    "# Use the house dictionary for the following challenges\n",
    "house = { \"address\": \"123 Fake Street\", \"price\": 750000, \"bedrooms\": 3}\n",
    "\n",
    "# A. Buyers can't find the house without a zip code! Add a zip_code property equal to \"95404\"\n",
    "\n",
    "# B. Our web designers want a statement reading: \"This 3 bedroom house costs 250000\"\n",
    "#    Print that statement by accessing the values from the dictionary: do NOT \"hard-code\" the string!\n",
    "\n",
    "# C. We're getting a lot of interest in the house! Let's increase the price by 10%\n",
    "\n",
    "# D. Buyers are surprised at how small the house is. Let's add a square_feet property equal to 750\n",
    "\n",
    "# E. We want to show off the value per foot. Print a message explaining the price per square foot.\n",
    "\n",
    "# F. After 2 long hours on the market, the house has finally sold! Add a status property equal to \"sold\"\n",
    "\n",
    "# G. Print the entire listing. You should see a dictionary similar to the following:\n",
    "# {address: \"123 Fake Street\", price: 825000, bedrooms: 3, zip_code: \"95404\" square_feet: 750, status: \"sold\"}"
   ]
  },
  {
   "cell_type": "code",
   "execution_count": null,
   "metadata": {},
   "outputs": [],
   "source": [
    "# 2.4 Python Librarian\n",
    "\n",
    "authors = {\n",
    "    \"Arundhati Roy\": {\n",
    "        \"genre\": \"literary fiction\",\n",
    "        \"books\": [\n",
    "            \"The God of Small Things\",\n",
    "            \"The Ministry of Utmost Happiness\"\n",
    "        ],\n",
    "        \"active\": True\n",
    "    },\n",
    "    \"Brandon Sanderson\": {\n",
    "        \"genre\": \"fantasy\",\n",
    "        \"books\": [\n",
    "            \"The Way of Kings\",\n",
    "            \"Words of Radiance\",\n",
    "            \"Oathbringer\"\n",
    "        ],\n",
    "        \"active\": True,\n",
    "        \"phone\": {\n",
    "            \"home\": \"(281) 330-8004\",\n",
    "            \"work\": \"(877) CASH-NOW\"\n",
    "        }\n",
    "    },\n",
    "    \"Kobo Abe\": {\n",
    "        \"genre\": \"absurdist fiction\",\n",
    "        \"books\": [\n",
    "            \"The Woman in the Dunes\",\n",
    "            \"The Face of Another\"\n",
    "        ],\n",
    "        \"active\": False\n",
    "    },\n",
    "}"
   ]
  },
  {
   "cell_type": "code",
   "execution_count": null,
   "metadata": {},
   "outputs": [],
   "source": [
    "# A. Access and print Arundhati Roy's first book"
   ]
  },
  {
   "cell_type": "code",
   "execution_count": null,
   "metadata": {},
   "outputs": [],
   "source": [
    "# B. We need to contact Brandon at work: access and print their work phone number"
   ]
  },
  {
   "cell_type": "code",
   "execution_count": null,
   "metadata": {},
   "outputs": [],
   "source": [
    "# C. Create a list composed of all the genres available in our library"
   ]
  },
  {
   "cell_type": "code",
   "execution_count": null,
   "metadata": {},
   "outputs": [],
   "source": [
    "# D. Create a list of all books available in our library"
   ]
  },
  {
   "cell_type": "code",
   "execution_count": null,
   "metadata": {},
   "outputs": [],
   "source": [
    "# E. Arundhati has decided to expand their range of genres and tackle non-fiction\n",
    "#    Modify their \"genre\" property to now be a list that also includes non-fiction"
   ]
  },
  {
   "cell_type": "code",
   "execution_count": null,
   "metadata": {},
   "outputs": [],
   "source": [
    "# F. Brandon Sanderson is retiring. Change their active property to False.\n",
    "#    BONUS: This means we should no longer contact them. Delete their \"phone\" property"
   ]
  },
  {
   "cell_type": "code",
   "execution_count": null,
   "metadata": {},
   "outputs": [],
   "source": [
    "# G. Add a new author to our collection of your choice. Make sure they have:\n",
    "#    i. A genre property equal to a string or list of strings\n",
    "#    ii. A books property equal to a list of strings\n",
    "#    iii. An active property equal to a boolean\n",
    "#    iv. Another property that is also a dictionary with one or more properties"
   ]
  }
 ],
 "metadata": {
  "kernelspec": {
   "display_name": "Python 3",
   "language": "python",
   "name": "python3"
  },
  "language_info": {
   "codemirror_mode": {
    "name": "ipython",
    "version": 3
   },
   "file_extension": ".py",
   "mimetype": "text/x-python",
   "name": "python",
   "nbconvert_exporter": "python",
   "pygments_lexer": "ipython3",
   "version": "3.7.6"
  }
 },
 "nbformat": 4,
 "nbformat_minor": 4
}
