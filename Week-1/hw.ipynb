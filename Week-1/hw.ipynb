{
 "cells": [
  {
   "cell_type": "markdown",
   "metadata": {},
   "source": []
  },
  {
   "cell_type": "code",
   "execution_count": null,
   "metadata": {},
   "outputs": [],
   "source": [
    "    # 1.1 Our First Jupyter Cell\\n\",\n",
    "    # Select this cell and execute it by clicking run or using the shortcut, ctrl + enter\\n\",\n",
    "    # This will display the \\\"Zen of Python,\\\" describing the philosophy behind python\\n\",\n",
    "    #import this\""
   ]
  },
  {
   "cell_type": "code",
   "execution_count": 3,
   "metadata": {},
   "outputs": [
    {
     "name": "stdout",
     "output_type": "stream",
     "text": [
      "hello, my name is Sanjeev and I am Content about learning python.\n"
     ]
    }
   ],
   "source": [
    "    # 1.2 Introduce Yourself\\n\",\n",
    "    # Define the variables greeting, name, and mood, and assign them string-type values\\n\",\n",
    "    # Then, execute this cell to see an introduction message printed to the console\\n\",\n",
    "    name = \"Sanjeev\"\n",
    "    mood = \"Content\" \n",
    "    greeting = \"hello\"    \n",
    "    print(greeting + \", my name is \" + name + \" and I am \" + mood + \" about learning python.\")"
   ]
  },
  {
   "cell_type": "code",
   "execution_count": 8,
   "metadata": {},
   "outputs": [
    {
     "name": "stdout",
     "output_type": "stream",
     "text": [
      "42\n",
      "41\n",
      "533\n",
      "542\n",
      "5955\n",
      "594.9\n",
      "6.059\n"
     ]
    }
   ],
   "source": [
    "    # 1.3 Operators and Updating Variables\\n\",\n",
    "    # Define numeric variables for the month and day of your birthdate to be used whenever requested\\n\",\n",
    "    \n",
    "    \n",
    "    # Write a new line of code beneath each comment, always updating the birthdate variable as you do so\\n\",\n",
    "    birthdate = 6\n",
    "    # Multiply by the month \\n\",\n",
    "    birthdate *= 7\n",
    "    print(birthdate)\n",
    "    # Subtract 1\\n\",\n",
    "    birthdate-= 1\n",
    "    print(birthdate)\n",
    "    # Multiply by 13\\n\",\n",
    "    birthdate*=13\n",
    "    print(birthdate)\n",
    "    # Add the day of your birth\\n\",\n",
    "    birthdate+=6\n",
    "    # Add 3\\n\",\n",
    "    birthdate+=3\n",
    "    # Multiply by 11\\n\",\n",
    "    print(birthdate)\n",
    "    birthdate*=11\n",
    "    # Subtract the month of your birth\\n\",\n",
    "    birthdate-=7\n",
    "    print(birthdate)\n",
    "    # Subtract the day of your birth\\n\",\n",
    "    birthdate-=6\n",
    "    # Divide by 10\\n\",\n",
    "    birthdate/=10\n",
    "    print(birthdate)\n",
    "    # Add 11\\n\",\n",
    "    birthdate+=11\n",
    "    # Divide by 100\\n\",\n",
    "    birthdate/=100\n",
    "    # birthdate should now be a floating point number with the day.month of your birthday\\n\",\n",
    "    print(birthdate)"
   ]
  },
  {
   "cell_type": "code",
   "execution_count": 14,
   "metadata": {},
   "outputs": [
    {
     "name": "stdout",
     "output_type": "stream",
     "text": [
      "hello i am from toronto. I can be very loud i want to travel to a mountain and a deep hot especially when the weather gets hot\n"
     ]
    }
   ],
   "source": [
    "  # 1.4 Python Mad Libs\\n\",\n",
    "    # Create a Mad Libs style game using string concatenation or the \\\"f-string\\\" style string interpolation\\n\",\n",
    "    # First, define at least 7 variables with names such as adjective_one or noun_three\\n\",\n",
    "    # Then, plug those variables into a long string that tells a story using those variables\"\n",
    "\n",
    "v1 = 'sharp'\n",
    "v2 = 'toronto'\n",
    "v3 = 'loud'\n",
    "v4 = 'mountain'\n",
    "v5 = 'ocean'\n",
    "v6 = 'deep' \n",
    "v7 = 'hot' \n",
    "\n",
    "print ('hello i am from ' + v2 + '. I can be very '+ v3 + ' i want to travel to a ' + v4 + ' and a ' +v6+' '+v7+' especially when the weather gets '+ v7)"
   ]
  },
  {
   "cell_type": "code",
   "execution_count": 25,
   "metadata": {},
   "outputs": [
    {
     "name": "stdout",
     "output_type": "stream",
     "text": [
      "()\n",
      "10\n",
      "5Hello\n"
     ]
    }
   ],
   "source": [
    "   # 1.5 Code Fast and Break Things\\n\",\n",
    "    # Each of the following lines of code is mistaken in some way\\n\",\n",
    "    # Either they contain errors or don't do what the user would expect them to\\n\",\n",
    "    # Correct each example, and write a comment explaining what went wrong\"\n",
    "my_variable = () \n",
    "print(my_variable)\n",
    "\n",
    "my_number = 5\n",
    "my_number += 5\n",
    "print(my_number)\n",
    "\n",
    "my_num = 5\n",
    "my_string = \"Hello\"\n",
    "print(str(my_num) + my_string)"
   ]
  },
  {
   "cell_type": "code",
   "execution_count": 27,
   "metadata": {},
   "outputs": [
    {
     "name": "stdout",
     "output_type": "stream",
     "text": [
      "30\n"
     ]
    }
   ],
   "source": [
    "\"# The user expected the result to be 30!\\n\",\n",
    "my_num1 = 10\n",
    "my_num2 = 20\n",
    "print(my_num1 + my_num2)"
   ]
  },
  {
   "cell_type": "code",
   "execution_count": 28,
   "metadata": {},
   "outputs": [
    {
     "name": "stdout",
     "output_type": "stream",
     "text": [
      "I enjoy python in the morning\n"
     ]
    }
   ],
   "source": [
    " \"# The user expected the message to read \\\"I enjoy python in the morning.\\\"\\n\",\n",
    "language = 'python'\n",
    "print(\"I enjoy \"+ language+ \" in the morning\")"
   ]
  },
  {
   "cell_type": "code",
   "execution_count": 31,
   "metadata": {},
   "outputs": [
    {
     "name": "stdout",
     "output_type": "stream",
     "text": [
      "10 20\n",
      "Hello John Doe, hope you're well!\n"
     ]
    }
   ],
   "source": [
    "my_num1 = 10\n",
    "my_num2 = 20\n",
    "print(my_num1,my_num2)\n",
    "\n",
    "first_name = \"John\"\n",
    "last_name = \"Doe\"\n",
    "\n",
    "print(\"Hello {} {}, hope you're well!\".format(first_name,last_name))\n",
    "\n",
    "first_name = \"John\"\n",
    "last_name = \"Doe\"\n",
    "\n",
    "print(f\"Hello, {last_name} {first_name}!\")"
   ]
  }
 ],
 "metadata": {
  "interpreter": {
   "hash": "ff8820d68103f65a32e220fbaf67767b0ea0975cfea834e25ea838c1356d577f"
  },
  "kernelspec": {
   "display_name": "Python 3.10.5 64-bit",
   "language": "python",
   "name": "python3"
  },
  "language_info": {
   "codemirror_mode": {
    "name": "ipython",
    "version": 3
   },
   "file_extension": ".py",
   "mimetype": "text/x-python",
   "name": "python",
   "nbconvert_exporter": "python",
   "pygments_lexer": "ipython3",
   "version": "3.10.5"
  },
  "orig_nbformat": 4
 },
 "nbformat": 4,
 "nbformat_minor": 2
}
