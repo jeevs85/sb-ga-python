{
 "cells": [
  {
   "cell_type": "code",
   "execution_count": null,
   "metadata": {},
   "outputs": [],
   "source": [
    "string_1 = 'line'\n",
    "string_2 = 'text'\n",
    "\n",
    "#check if the two are equal, print 'they are the same' if they are\n",
    "#otherwise print 'they are not the same'\n",
    "\n",
    "population = 12000000\n",
    "area = 15000\n",
    "\n",
    "#if the population per area is greater than 20000\n",
    "#print, overpopulated\n",
    "#otherwise print underpopulated\n",
    "\n",
    "#check if a number is less than, greater, or equal to 55\n",
    "number = 55\n"
   ]
  },
  {
   "cell_type": "code",
   "execution_count": null,
   "metadata": {},
   "outputs": [],
   "source": [
    "#Challenge 1\n",
    "#check if a password is valid based on the following rules\n",
    "# at least one letter between[a-z] and at lesat one letter between [A-Z]\n",
    "# at least one number between [0-9]\n",
    "# at leat one character from [$@#]\n",
    "# minimum length of 6 characters\n",
    "# maximum length of 16 characters\n",
    "\n",
    "password = 0987poiU\n",
    "\n",
    "req1 = 'abcdefghijklmnopqrstuvwxyz'\n",
    "req2 = 'ABCDEFGHIJKLMNOPQRSTUVWXYZ'\n",
    "req3 = '0123456789'\n",
    "req4 = '$@#'\n"
   ]
  },
  {
   "cell_type": "code",
   "execution_count": 8,
   "metadata": {},
   "outputs": [
    {
     "name": "stdout",
     "output_type": "stream",
     "text": [
      "too small\n",
      "too small\n",
      "too small\n",
      "You are correct\n"
     ]
    }
   ],
   "source": [
    "#Challenge 2\n",
    "#prompt the user to enter a value between 1 and 10\n",
    "# compare the input with your secret number\n",
    "# if input if less that secret print 'too small'\n",
    "# if input if greater that secret print 'too big'\n",
    "#if its equal, print 'yaaah you are correct', then end\n",
    "\n",
    "secret_number = 7\n",
    "user_number = None\n",
    "\n",
    "\n",
    "while secret_number != user_number:\n",
    "\n",
    "    user_number = int(input(\"please enter a number between 1 and 10\"))\n",
    "\n",
    "    if user_number == secret_number:\n",
    "        print(\"You are correct\")\n",
    "    elif user_number > secret_number:\n",
    "        print(\"too big\")\n",
    "    else:\n",
    "        print (\"too small\")"
   ]
  },
  {
   "cell_type": "code",
   "execution_count": 5,
   "metadata": {},
   "outputs": [
    {
     "name": "stdout",
     "output_type": "stream",
     "text": [
      "B\n"
     ]
    }
   ],
   "source": [
    "#Challenge 3\n",
    "#print the letter grade given a score\n",
    "#80 and above, print 'A'\n",
    "#60 ot 79 print 'B'\n",
    "#50 to 59 print 'C'\n",
    "#otherwise print 'F' (0 - 49)\n",
    "\n",
    "grade = 67\n",
    "\n",
    "if grade >= 80:\n",
    "    print('A')\n",
    "elif grade>=60: #and grade<= 79:\n",
    "    print('B')\n",
    "elif grade>=50: #and grade<= 59:\n",
    "    print('C')\n",
    "else :\n",
    "    print(\"fail\")\n",
    "\n",
    "\n",
    "\n",
    "\n"
   ]
  }
 ],
 "metadata": {
  "interpreter": {
   "hash": "ff8820d68103f65a32e220fbaf67767b0ea0975cfea834e25ea838c1356d577f"
  },
  "kernelspec": {
   "display_name": "Python 3.10.5 64-bit",
   "language": "python",
   "name": "python3"
  },
  "language_info": {
   "codemirror_mode": {
    "name": "ipython",
    "version": 3
   },
   "file_extension": ".py",
   "mimetype": "text/x-python",
   "name": "python",
   "nbconvert_exporter": "python",
   "pygments_lexer": "ipython3",
   "version": "3.10.5"
  },
  "orig_nbformat": 4
 },
 "nbformat": 4,
 "nbformat_minor": 2
}
