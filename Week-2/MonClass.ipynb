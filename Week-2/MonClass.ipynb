{
 "cells": [
  {
   "cell_type": "code",
   "execution_count": null,
   "metadata": {},
   "outputs": [],
   "source": [
    "#Notes\n",
    "#truthy vs Falsey\n",
    "\n",
    "# some values are inherently true and some are false\n",
    "# the value 0 is falsey\n",
    "#any positive interger is truthy\n",
    "\n",
    "#the empty string is falsey\n",
    "#none is falsey\n",
    "#empty list is falsey"
   ]
  },
  {
   "cell_type": "code",
   "execution_count": 3,
   "metadata": {},
   "outputs": [
    {
     "name": "stdout",
     "output_type": "stream",
     "text": [
      "Eligible to votes\n"
     ]
    }
   ],
   "source": [
    "age = 17 \n",
    "\n",
    "if age >= 18: \n",
    "    print(\"Eligible to vote\")\n",
    "print(\"Eligible to votes\")"
   ]
  },
  {
   "cell_type": "code",
   "execution_count": 7,
   "metadata": {},
   "outputs": [
    {
     "name": "stdout",
     "output_type": "stream",
     "text": [
      "too far\n",
      "good day for python\n",
      "Fun stuff!!\n"
     ]
    }
   ],
   "source": [
    "city_one = 45\n",
    "city_two = 56\n",
    "\n",
    "if (city_two-city_one) > 10:\n",
    "    print('too far')\n",
    "\n",
    "#else\n",
    "days_of_week = 'Thu'\n",
    "\n",
    "if days_of_week =='Tue':\n",
    "    print(\"atleast it's not Monday\")\n",
    "else :\n",
    "    print (\"good day for python\")\n",
    "\n",
    "#multiple options\n",
    "#Mon - if else \n",
    "#Wed - loops\n",
    "#Fri - homework\n",
    "#any other day - fun stuff woohoo\n",
    "\n",
    "if days_of_week=='Mon':\n",
    "    print(\"if else\")\n",
    "elif days_of_week=='Wed':\n",
    "    print(\"loops\")\n",
    "elif days_of_week=='Fri':\n",
    "    print(\"homework\")\n",
    "else:\n",
    "    print(\"Fun stuff!!\")\n",
    "\n"
   ]
  },
  {
   "cell_type": "code",
   "execution_count": 11,
   "metadata": {},
   "outputs": [
    {
     "name": "stdout",
     "output_type": "stream",
     "text": [
      "stay inside\n"
     ]
    }
   ],
   "source": [
    "#compound statements in our if \n",
    "\n",
    "#if it is a Moonday and it is raining stay inside\n",
    "\n",
    "day_of_week = 'Mon'\n",
    "weather = 'sunny'\n",
    "action = None\n",
    "if day_of_week == 'Mon' or weather=='rainy':\n",
    "    action = 'stay inside'\n",
    "\n",
    "print(action)"
   ]
  },
  {
   "cell_type": "code",
   "execution_count": 1,
   "metadata": {},
   "outputs": [
    {
     "name": "stdout",
     "output_type": "stream",
     "text": [
      "1\n",
      "2\n",
      "fizz\n",
      "4\n",
      "buzz\n",
      "fizz\n",
      "7\n",
      "8\n",
      "fizz\n",
      "buzz\n",
      "11\n",
      "fizz\n",
      "13\n",
      "14\n",
      "fizzbuzz\n",
      "16\n",
      "17\n",
      "fizz\n",
      "19\n",
      "buzz\n",
      "fizz\n",
      "22\n",
      "23\n",
      "fizz\n",
      "buzz\n",
      "26\n",
      "fizz\n",
      "28\n",
      "29\n",
      "fizzbuzz\n",
      "31\n",
      "32\n",
      "fizz\n",
      "34\n",
      "buzz\n",
      "fizz\n",
      "37\n",
      "38\n",
      "fizz\n",
      "buzz\n",
      "41\n",
      "fizz\n",
      "43\n",
      "44\n",
      "fizzbuzz\n",
      "46\n",
      "47\n",
      "fizz\n",
      "49\n",
      "buzz\n"
     ]
    },
    {
     "ename": "",
     "evalue": "",
     "output_type": "error",
     "traceback": [
      "\u001b[1;31mThe Kernel crashed while executing code in the the current cell or a previous cell. Please review the code in the cell(s) to identify a possible cause of the failure. Click <a href='https://aka.ms/vscodeJupyterKernelCrash'>here</a> for more info. View Jupyter <a href='command:jupyter.viewOutput'>log</a> for further details."
     ]
    }
   ],
   "source": [
    "#fizzbuzz\n",
    "\n",
    "#if numb is divisble by 3, print 'fizz'\n",
    "#if numb is divisible by 5, print 'buzz'\n",
    "#if numb is divisible by 15, print 'fizzbuzz'\n",
    "#other wise just print the number\n",
    "\n",
    "for numb in range (1,51):\n",
    "    if numb % 15 == 0:\n",
    "        print('fizzbuzz')\n",
    "    elif numb % 5==0:\n",
    "        print('buzz')\n",
    "    elif numb % 3==0:\n",
    "        print(\"fizz\")\n",
    "    else :\n",
    "        print (numb)\n"
   ]
  },
  {
   "cell_type": "code",
   "execution_count": 18,
   "metadata": {},
   "outputs": [
    {
     "name": "stdout",
     "output_type": "stream",
     "text": [
      "It is not a vowel\n",
      "It is not a vowel\n"
     ]
    }
   ],
   "source": [
    "# check if a character is a vowel \n",
    "\n",
    "letter_one = 'a'\n",
    "letter_two = 'i'\n",
    "letter_three = 'x' \n",
    "letter_four = 'u' \n",
    "\n",
    "test =letter_three\n",
    "\n",
    "if test == 'a' or test =='e' or test == 'i' or test == 'o' or test == 'u':\n",
    "    print('It is a vowel')\n",
    "else :\n",
    "    print(\"It is not a vowel\")\n",
    "\n",
    "vowels = 'aeiou'\n",
    "\n",
    "if test in vowels:\n",
    "    print('It is a vowel')\n",
    "else:\n",
    "    print(\"It is not a vowel\")"
   ]
  },
  {
   "cell_type": "code",
   "execution_count": 19,
   "metadata": {},
   "outputs": [
    {
     "name": "stdout",
     "output_type": "stream",
     "text": [
      "Sanjeev\n"
     ]
    }
   ],
   "source": [
    "name = input ('Type your name here: ')\n",
    "print (name)\n",
    "\n"
   ]
  },
  {
   "cell_type": "code",
   "execution_count": 20,
   "metadata": {},
   "outputs": [
    {
     "name": "stdout",
     "output_type": "stream",
     "text": [
      "7\n"
     ]
    }
   ],
   "source": [
    "#remember that all input from keyboard is string\n",
    "# if you are working with numbers, convert to int or float\n",
    "\n",
    "number_one = int(input('Enter first number:'))\n",
    "number_two = int(input('Enter second number:'))\n",
    "\n",
    "print(number_one + number_two)"
   ]
  }
 ],
 "metadata": {
  "interpreter": {
   "hash": "ff8820d68103f65a32e220fbaf67767b0ea0975cfea834e25ea838c1356d577f"
  },
  "kernelspec": {
   "display_name": "Python 3.10.5 64-bit",
   "language": "python",
   "name": "python3"
  },
  "language_info": {
   "codemirror_mode": {
    "name": "ipython",
    "version": 3
   },
   "file_extension": ".py",
   "mimetype": "text/x-python",
   "name": "python",
   "nbconvert_exporter": "python",
   "pygments_lexer": "ipython3",
   "version": "3.10.5"
  },
  "orig_nbformat": 4
 },
 "nbformat": 4,
 "nbformat_minor": 2
}
