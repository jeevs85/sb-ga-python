{
 "cells": [
  {
   "cell_type": "code",
   "execution_count": 5,
   "metadata": {},
   "outputs": [
    {
     "name": "stdout",
     "output_type": "stream",
     "text": [
      "h\n",
      "0\n",
      "27\n",
      "7\n",
      "7\n"
     ]
    }
   ],
   "source": [
    "# the for loop \n",
    "\n",
    "my_string = 'this is an arbitrary string'\n",
    "vowels = 'aeiouAEIOU'\n",
    "#how would we find the number of vowels in this tring? \n",
    "\n",
    "print(my_string[1])\n",
    "\n",
    "counter = 0\n",
    "counter2 = 0\n",
    "end_val = len(my_string)\n",
    "iter = 0\n",
    "\n",
    "print(iter)\n",
    "print(end_val)\n",
    "while iter < end_val :\n",
    "    if my_string[iter] in vowels :\n",
    "        counter = counter +1\n",
    "    iter =iter+1\n",
    "\n",
    "print(counter)\n",
    "\n",
    "for i in my_string :\n",
    "    if i in vowels :\n",
    "        counter2 = counter2 +1\n",
    "   \n",
    "\n",
    "print(counter2)\n",
    "\n",
    "\n",
    "\n"
   ]
  },
  {
   "cell_type": "code",
   "execution_count": 12,
   "metadata": {},
   "outputs": [
    {
     "name": "stdout",
     "output_type": "stream",
     "text": [
      "No zeroes\n"
     ]
    }
   ],
   "source": [
    "#check if there is a zero in this list \n",
    "# if yes, print found a zero\n",
    "# if no, print no zeros\n",
    "\n",
    "nums = [-1,-5,4,3,7,8,1,-7]\n",
    "flag = False\n",
    "for num in nums : \n",
    "    if num ==0:\n",
    "        print (\"found a zero\")\n",
    "        flag = True\n",
    "        break\n",
    "if flag ==False:\n",
    "    print('No zeroes')"
   ]
  },
  {
   "cell_type": "code",
   "execution_count": 21,
   "metadata": {},
   "outputs": [
    {
     "name": "stdout",
     "output_type": "stream",
     "text": [
      "51\n",
      "51\n",
      "59\n",
      "-8\n"
     ]
    }
   ],
   "source": [
    "#find the sum of all the number in this list \n",
    "temps = [-2,-5,-1,0,2,5,11,7,13,21]\n",
    "total = 0\n",
    "for temp in temps:\n",
    "    total += temp\n",
    "\n",
    "print(total)\n",
    "total2= sum(temps)\n",
    "print (total2)\n",
    "\n",
    "\n",
    "# calculate two totals: total off the negative numbers. and the total of the positive numbers\n",
    "positive_total = 0\n",
    "negative_total = 0\n",
    "\n",
    "for temp in temps:\n",
    "    if temp >0:\n",
    "        positive_total += temp\n",
    "    else :\n",
    "        negative_total += temp\n",
    "\n",
    "print (positive_total)\n",
    "print (negative_total)\n"
   ]
  },
  {
   "cell_type": "code",
   "execution_count": 29,
   "metadata": {},
   "outputs": [
    {
     "name": "stdout",
     "output_type": "stream",
     "text": [
      "Pythn s mzng\n"
     ]
    }
   ],
   "source": [
    "# create a new string from this string, with all the vowels removed\n",
    "strings = 'Python is amazing'\n",
    "string2 = ''\n",
    "vowels = 'AEIOUaeiou'\n",
    "counter =0\n",
    "for string in strings :\n",
    "    if string not in vowels:\n",
    "        string2 += string\n",
    "        \n",
    "\n",
    "print(string2)"
   ]
  },
  {
   "cell_type": "code",
   "execution_count": 31,
   "metadata": {},
   "outputs": [
    {
     "name": "stdout",
     "output_type": "stream",
     "text": [
      "3\n"
     ]
    }
   ],
   "source": [
    "# for loops using indeces\n",
    "#what if we want to kow the index of a value in a list\n",
    "# what is the index of the first 7 in the list\n",
    "\n",
    "values = [-1,5,3,7,2,8,7,-11,23 ] #3\n",
    "\n",
    "#we need to use the range function \n",
    "first_seven_index =-1\n",
    "for idx in range (len(values)) : \n",
    "    if values[idx] == 7:\n",
    "        first_seven_index = idx\n",
    "        break\n",
    "\n",
    "print (idx)\n"
   ]
  },
  {
   "cell_type": "code",
   "execution_count": 40,
   "metadata": {},
   "outputs": [
    {
     "name": "stdout",
     "output_type": "stream",
     "text": [
      "[1, 5]\n"
     ]
    }
   ],
   "source": [
    "#challenge\n",
    "cities = ['Cancun', 'Cozumel', 'New Orleans', 'Montego Bay', 'Rio De Janeio', 'Cozumel']\n",
    "\n",
    "#1. find the position of 'Cozumel' in the list \n",
    "#2. store them in a new list\n",
    "pos = -1\n",
    "\n",
    "pos2 = []\n",
    "for idx in range (len(cities)):\n",
    "    if cities[idx] == 'Cozumel':\n",
    "        pos2.append(idx) \n",
    "        \n",
    "\n",
    "print (pos2)"
   ]
  },
  {
   "cell_type": "code",
   "execution_count": 6,
   "metadata": {},
   "outputs": [
    {
     "name": "stdout",
     "output_type": "stream",
     "text": [
      "The Secret number is  5\n",
      "The Secret number is  5\n",
      "The Secret number is  5\n"
     ]
    }
   ],
   "source": [
    "#continiously ask for user input\n",
    "#prompt the user to guess a secret number \n",
    "#use random module to genereate a number \n",
    "\n",
    "import random\n",
    "secret_number = random.randint (1,10)\n",
    "guess = 0 \n",
    "while guess != secret_number:\n",
    "    guess =int(input('guess a number between 1 and 10'))\n",
    "    print('The Secret number is ' , secret_number)\n",
    "\n"
   ]
  },
  {
   "cell_type": "code",
   "execution_count": 9,
   "metadata": {},
   "outputs": [
    {
     "name": "stdout",
     "output_type": "stream",
     "text": [
      "13\n"
     ]
    }
   ],
   "source": [
    "# print the first odd number in this list \n",
    "\n",
    "my_nums = [0,2,-6,-12,13,5,24,11,3]\n",
    "\n",
    "for my_num in my_nums:\n",
    "    if my_num %2 !=0:\n",
    "        print(my_num)\n",
    "        break\n"
   ]
  }
 ],
 "metadata": {
  "interpreter": {
   "hash": "ff8820d68103f65a32e220fbaf67767b0ea0975cfea834e25ea838c1356d577f"
  },
  "kernelspec": {
   "display_name": "Python 3.10.5 64-bit",
   "language": "python",
   "name": "python3"
  },
  "language_info": {
   "codemirror_mode": {
    "name": "ipython",
    "version": 3
   },
   "file_extension": ".py",
   "mimetype": "text/x-python",
   "name": "python",
   "nbconvert_exporter": "python",
   "pygments_lexer": "ipython3",
   "version": "3.10.5"
  },
  "orig_nbformat": 4
 },
 "nbformat": 4,
 "nbformat_minor": 2
}
