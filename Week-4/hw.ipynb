{
 "cells": [
  {
   "cell_type": "code",
   "execution_count": null,
   "metadata": {},
   "outputs": [],
   "source": [
    "#Define a class BankAccount\n",
    "#A BankAccount has an id, an account_number, a name (the person who owns the account), and a balance\n",
    "#The opening balance of the account is 0\n",
    "class BankAccount:\n",
    "    def __init__(self):\n",
    "        #implement the init method\n",
    "        pass\n",
    "#Implement deposit and withdraw methods for the BankAccount class\n",
    "#We dont allow overdrafts for our accounts, so remember to check that\n",
    "#You have a sufficient balance when you are doing a withdrawal\n",
    "\n",
    "#Implement the __repr__ method to display the id, account_number, name, and balance for an account"
   ]
  },
  {
   "cell_type": "code",
   "execution_count": null,
   "metadata": {},
   "outputs": [],
   "source": [
    "#Create ten BankAccount objects and insert them into a list\n",
    "#We want to send out an email to all the bank account holders\n",
    "#Write a function get_eligible_accounts, that takes the list of accounnts\n",
    "# and a target_balance and returns a new list with only those accounts\n",
    "#that have a balance greater than a target_balance\n",
    "def get_eligible_accounts(accounts, target_balance):\n",
    "    pass\n",
    "\n"
   ]
  },
  {
   "cell_type": "code",
   "execution_count": null,
   "metadata": {},
   "outputs": [],
   "source": [
    "#Define a class Flight that we will use to track an airline flight\n",
    "# and all the bookings we have\n",
    "#The Fight class has flight_number, origin, destination, capacity\n",
    "\n",
    "class Flight:\n",
    "    def __init__(self):\n",
    "        #define the init method\n",
    "        # \n",
    "\n",
    "#define a book method that books the flight\n",
    "#the book method must decrese the capacity of the flight \n",
    "#by 1 each time it is called\n",
    "\n",
    "#define the __repr__ method that prints out a flight's number, origin, and destination"
   ]
  },
  {
   "cell_type": "code",
   "execution_count": null,
   "metadata": {},
   "outputs": [],
   "source": [
    "#Lets build on the airline application.\n",
    "#Create a customer class. Each cutomer has an id, name, age, sex\n",
    "#Modify your book method to accept a customer.\n",
    "#Add this customer to a bookings list in your Flight class (modify your Flight class to have a bookings list)\n",
    "#Make sure that we can only insert a Customer object in our bookings list, and not  other data type\n",
    "#implement a method get_bookings to display the id, name, age, and sex of all\n",
    "#the customers that have been booked on the flight\n"
   ]
  }
 ],
 "metadata": {
  "language_info": {
   "name": "python"
  },
  "orig_nbformat": 4
 },
 "nbformat": 4,
 "nbformat_minor": 2
}
