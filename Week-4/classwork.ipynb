{
 "cells": [
  {
   "cell_type": "code",
   "execution_count": 7,
   "metadata": {},
   "outputs": [],
   "source": [
    "#writing to csv file \n",
    "import csv\n",
    "people = [{'name': \"John\", 'age':30, 'sex': 'M', 'address': 'Toronto'}]\n",
    "fields = ['name', 'age', 'sex', 'address']\n",
    "#write this to a csv file called people.csv\n",
    "\n",
    "with open('people.csv', 'w') as f:\n",
    "    writer = csv.writer(f)\n",
    "    writer.writerow(people)\n",
    "\n",
    "\n",
    "with open('people.csv','a') as data_file:\n",
    "    writer=csv.DictWriter(data_file, fieldnames=fields)\n",
    "    writer.writeheader()\n",
    "    for person in people:\n",
    "        writer.writerow(person)\n",
    "        "
   ]
  }
 ],
 "metadata": {
  "interpreter": {
   "hash": "ff8820d68103f65a32e220fbaf67767b0ea0975cfea834e25ea838c1356d577f"
  },
  "kernelspec": {
   "display_name": "Python 3.10.5 64-bit",
   "language": "python",
   "name": "python3"
  },
  "language_info": {
   "codemirror_mode": {
    "name": "ipython",
    "version": 3
   },
   "file_extension": ".py",
   "mimetype": "text/x-python",
   "name": "python",
   "nbconvert_exporter": "python",
   "pygments_lexer": "ipython3",
   "version": "3.10.5"
  },
  "orig_nbformat": 4
 },
 "nbformat": 4,
 "nbformat_minor": 2
}
