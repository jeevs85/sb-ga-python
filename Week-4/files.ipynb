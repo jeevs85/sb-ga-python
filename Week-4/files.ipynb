{
 "cells": [
  {
   "cell_type": "code",
   "execution_count": 6,
   "metadata": {},
   "outputs": [
    {
     "name": "stdout",
     "output_type": "stream",
     "text": [
      "1. This is the first line in the file\n",
      "2. This is the second line in the file\n",
      "\n"
     ]
    }
   ],
   "source": [
    "#read from a file \n",
    "\n",
    "my_file = open('lines.txt')\n",
    "\n",
    "data = my_file.read()\n",
    "\n",
    "my_file.close()\n",
    "print(data)\n",
    "print(line)"
   ]
  },
  {
   "cell_type": "code",
   "execution_count": 8,
   "metadata": {},
   "outputs": [
    {
     "name": "stdout",
     "output_type": "stream",
     "text": [
      "['1. This is the first line in the file\\n', '2. This is the second line in the file']\n"
     ]
    }
   ],
   "source": [
    "my_file = open('lines.txt')\n",
    "line = my_file.readlines()\n",
    "print(line)\n",
    "my_file.close()"
   ]
  },
  {
   "cell_type": "code",
   "execution_count": 12,
   "metadata": {},
   "outputs": [
    {
     "name": "stdout",
     "output_type": "stream",
     "text": [
      "['1. This is the first line in the file\\n', '2. This is the second line in the file']\n"
     ]
    }
   ],
   "source": [
    "#use with if we dont want to bother about closing the fiel each time\n",
    "\n",
    "with open('lines.txt') as my_file:\n",
    "    lines2=my_file.readlines()\n",
    "    print(lines2)"
   ]
  },
  {
   "cell_type": "code",
   "execution_count": 16,
   "metadata": {},
   "outputs": [],
   "source": [
    "#writing to a file\n",
    "\n",
    "with open('lines.txt', 'w') as lines_file:\n",
    "    lines_file.write('3. This is the third line(orshould be)\\n')\n",
    "\n",
    "#using 'w' will overwrite any previous content\n",
    "#use append to add to existing content\n",
    "\n",
    "with open('lines.txt', 'a') as lines_file:\n",
    "    lines_file.write('4. A fourth would be line \\n')\n",
    "\n"
   ]
  }
 ],
 "metadata": {
  "interpreter": {
   "hash": "ff8820d68103f65a32e220fbaf67767b0ea0975cfea834e25ea838c1356d577f"
  },
  "kernelspec": {
   "display_name": "Python 3.10.5 64-bit",
   "language": "python",
   "name": "python3"
  },
  "language_info": {
   "codemirror_mode": {
    "name": "ipython",
    "version": 3
   },
   "file_extension": ".py",
   "mimetype": "text/x-python",
   "name": "python",
   "nbconvert_exporter": "python",
   "pygments_lexer": "ipython3",
   "version": "3.10.5"
  },
  "orig_nbformat": 4
 },
 "nbformat": 4,
 "nbformat_minor": 2
}
