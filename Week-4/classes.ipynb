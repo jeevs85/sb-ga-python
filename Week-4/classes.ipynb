{
 "cells": [
  {
   "cell_type": "code",
   "execution_count": 5,
   "metadata": {},
   "outputs": [
    {
     "name": "stdout",
     "output_type": "stream",
     "text": [
      "class has been initialized\n",
      "30\n",
      "31\n"
     ]
    }
   ],
   "source": [
    "# OOP - Object Oriented Programming \n",
    "\n",
    "# 1. Write classes these classes will have instance variables, and methods (functions)\n",
    "# 2. use classes to create objects\n",
    "\n",
    "# Instragram Account \n",
    "# - username\n",
    "# - password\n",
    "# - posts\n",
    "# - followers\n",
    "\n",
    "# Actions\n",
    "# - make comments\n",
    "# - share\n",
    "# - follow an account\n",
    "# - like\n",
    "# - unfollow\n",
    "# - Block\n",
    "# - report\n",
    "\n",
    "# 1. Encapsulation \n",
    "\n",
    "class Person:\n",
    "    def __init__(self, name, age):\n",
    "        # used to initialize the data members of the class\n",
    "        print('class has been initialized')\n",
    "        self.name = name \n",
    "        self.age = age\n",
    "    \n",
    "    def birthday (self):\n",
    "        #increase age by 1\n",
    "        self.age += 1\n",
    "\n",
    "\n",
    "\n",
    "#instantiate the person class\n",
    "p= Person('John', 30)\n",
    "\n",
    "print(p.age)\n",
    "\n",
    "p.birthday() \n",
    "\n",
    "print(p.age)\n",
    "\n",
    "\n",
    "#P is an object that belongs to the person class\n",
    "#or -p is an instance of the person class\n",
    "\n",
    "num = 10 \n",
    "\n",
    "name = 'Princeton' \n",
    "\n",
    "numbers = []"
   ]
  },
  {
   "cell_type": "code",
   "execution_count": 9,
   "metadata": {},
   "outputs": [
    {
     "name": "stdout",
     "output_type": "stream",
     "text": [
      "Area is  15\n",
      "Perimeter is  30\n"
     ]
    }
   ],
   "source": [
    "#Create a rectangle class \n",
    "# length and width instance variables\n",
    "# area and perimeter methods\n",
    "\n",
    "class Rectangle:\n",
    "    def __init__(self, length, width):\n",
    "        self.length = length\n",
    "        self.width = width \n",
    "    \n",
    "    def area(self):\n",
    "        return self.length +self.width\n",
    "    \n",
    "    def perimeter(self):\n",
    "        return self.length*2+self.width*2\n",
    "\n",
    "r = Rectangle (10,5)\n",
    "print('Area is ', r.area())\n",
    "print('Perimeter is ', r.perimeter())"
   ]
  },
  {
   "cell_type": "code",
   "execution_count": 25,
   "metadata": {},
   "outputs": [
    {
     "name": "stdout",
     "output_type": "stream",
     "text": [
      "Lose yourself\trap/hip hop\tEminem,cardi b\t2002\n"
     ]
    }
   ],
   "source": [
    "# Create a song class \n",
    "# title, genre, artist, year of release, rating instance variables \n",
    "\n",
    "class Song:\n",
    "\n",
    "    def __init__(self, title, genre):\n",
    "        self.title = title \n",
    "        self.genre = genre\n",
    "        self.artist = []\n",
    "        self.year_of_release = ''\n",
    "        self.rating = 0\n",
    "\n",
    "    # def __init__(self, title, genre, artist, year_of_release, rating):\n",
    "    #     self.title = title \n",
    "    #     self.genre = genre\n",
    "    #     self.artist.append (artist)\n",
    "    #     self.year_of_release = year_of_release\n",
    "    #     self.rating = rating\n",
    "\n",
    "    def set_artist(self,artist):\n",
    "        self.artist.append (artist)\n",
    "\n",
    "    def set_release_year(self, year):\n",
    "        self.year_of_release = year\n",
    "    \n",
    "    def get_title (self, title):\n",
    "        if title in self.title:\n",
    "            return True\n",
    "        else\n",
    "            return False\n",
    "\n",
    "    def __repr__(self):\n",
    "        #should return a string\n",
    "        return f\"{self.title}\\t{self.genre}\\t{','.join(self.artist)}\\t{self.year_of_release}\"\n",
    "\n",
    "s= Song ('Lose yourself', 'rap/hip hop')\n",
    "s.set_artist('Eminem')\n",
    "s.set_artist(\"cardi b\")\n",
    "s.set_release_year('2002')\n",
    "\n",
    "print (s)\n"
   ]
  },
  {
   "cell_type": "code",
   "execution_count": 1,
   "metadata": {},
   "outputs": [
    {
     "ename": "NameError",
     "evalue": "name 'Song' is not defined",
     "output_type": "error",
     "traceback": [
      "\u001b[1;31m---------------------------------------------------------------------------\u001b[0m",
      "\u001b[1;31mNameError\u001b[0m                                 Traceback (most recent call last)",
      "\u001b[1;32mc:\\Users\\jeevs\\Documents\\pythonCourse\\Week-4\\classes.ipynb Cell 4'\u001b[0m in \u001b[0;36m<cell line: 45>\u001b[1;34m()\u001b[0m\n\u001b[0;32m     <a href='vscode-notebook-cell:/c%3A/Users/jeevs/Documents/pythonCourse/Week-4/classes.ipynb#ch0000003?line=38'>39</a>\u001b[0m         \u001b[39mreturn\u001b[39;00m \u001b[39mf\u001b[39m\u001b[39m\"\u001b[39m\u001b[39m{\u001b[39;00m\u001b[39mself\u001b[39m\u001b[39m.\u001b[39mtitle\u001b[39m}\u001b[39;00m\u001b[39m\\n\u001b[39;00m\u001b[39m-------------\u001b[39m\u001b[39m\\n\u001b[39;00m\u001b[39m{\u001b[39;00msong_string\u001b[39m}\u001b[39;00m\u001b[39m\"\u001b[39m\n\u001b[0;32m     <a href='vscode-notebook-cell:/c%3A/Users/jeevs/Documents/pythonCourse/Week-4/classes.ipynb#ch0000003?line=43'>44</a>\u001b[0m p \u001b[39m=\u001b[39m playlist(\u001b[39m'\u001b[39m\u001b[39mbangers\u001b[39m\u001b[39m'\u001b[39m)\n\u001b[1;32m---> <a href='vscode-notebook-cell:/c%3A/Users/jeevs/Documents/pythonCourse/Week-4/classes.ipynb#ch0000003?line=44'>45</a>\u001b[0m t \u001b[39m=\u001b[39m Song (\u001b[39m\"\u001b[39m\u001b[39mblack and yellow\u001b[39m\u001b[39m\"\u001b[39m, \u001b[39m\"\u001b[39m\u001b[39mrap\u001b[39m\u001b[39m\"\u001b[39m)\n\u001b[0;32m     <a href='vscode-notebook-cell:/c%3A/Users/jeevs/Documents/pythonCourse/Week-4/classes.ipynb#ch0000003?line=45'>46</a>\u001b[0m p\u001b[39m.\u001b[39madd_song(s)\n\u001b[0;32m     <a href='vscode-notebook-cell:/c%3A/Users/jeevs/Documents/pythonCourse/Week-4/classes.ipynb#ch0000003?line=46'>47</a>\u001b[0m p\u001b[39m.\u001b[39madd_song(t)\n",
      "\u001b[1;31mNameError\u001b[0m: name 'Song' is not defined"
     ]
    }
   ],
   "source": [
    "#create a playlist \n",
    "#title, songs (list of song objects)\n",
    "#add_song, remove_song methods, change_title methods , share \n",
    "\n",
    "\n",
    "class playlist:\n",
    "    def __init__(self, title):\n",
    "        self.title = title\n",
    "        self.songs = []\n",
    "\n",
    "    def add_song(self,song):\n",
    "        if type(song) == Song:\n",
    "            self.songs.append (song)\n",
    "        else:\n",
    "            print(\"sorry this is not a song\")\n",
    "    \n",
    "    def remove_song (self, title):\n",
    "        count = 0\n",
    "        song_index = -1\n",
    "        for idx in range(len(self.songs)):       \n",
    "            if self.songs[idx].title ==title :\n",
    "                song_index =idx\n",
    "                self.songs.pop(idx)\n",
    "                return\n",
    "        \n",
    "        print(\"Song not found\")\n",
    "    \n",
    "    \n",
    "    def __repr__(self):\n",
    "        #should return a string\n",
    "        song_string =''\n",
    "        count = 1\n",
    "    \n",
    "\n",
    "        for song in self.songs:\n",
    "            song_string+= str(count) + song.__repr__() + '\\n'\n",
    "            count +=1 \n",
    "\n",
    "        return f\"{self.title}\\n-------------\\n{song_string}\"\n",
    "         \n",
    "         \n",
    "        \n",
    "\n",
    "p = playlist('bangers')\n",
    "t = Song (\"black and yellow\", \"rap\")\n",
    "p.add_song(s)\n",
    "p.add_song(t)\n",
    "p.add_song(\"anything\")\n",
    "p.remove_song ('black and yellow')\n",
    "\n",
    "print(p)\n"
   ]
  }
 ],
 "metadata": {
  "interpreter": {
   "hash": "ff8820d68103f65a32e220fbaf67767b0ea0975cfea834e25ea838c1356d577f"
  },
  "kernelspec": {
   "display_name": "Python 3.10.5 64-bit",
   "language": "python",
   "name": "python3"
  },
  "language_info": {
   "codemirror_mode": {
    "name": "ipython",
    "version": 3
   },
   "file_extension": ".py",
   "mimetype": "text/x-python",
   "name": "python",
   "nbconvert_exporter": "python",
   "pygments_lexer": "ipython3",
   "version": "3.10.5"
  },
  "orig_nbformat": 4
 },
 "nbformat": 4,
 "nbformat_minor": 2
}
