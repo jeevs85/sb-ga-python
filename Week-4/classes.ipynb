{
 "cells": [
  {
   "cell_type": "code",
   "execution_count": null,
   "metadata": {},
   "outputs": [],
   "source": [
    "# OOP - Object Oriented Programming \n",
    "\n",
    "# 1. Write classes these classes will have instance variables, and methods (functions)\n",
    "# 2. use classes to create objects\n",
    "\n"
   ]
  }
 ],
 "metadata": {
  "language_info": {
   "name": "python"
  },
  "orig_nbformat": 4
 },
 "nbformat": 4,
 "nbformat_minor": 2
}
