{
 "cells": [
  {
   "cell_type": "code",
   "execution_count": 1,
   "metadata": {},
   "outputs": [
    {
     "name": "stdout",
     "output_type": "stream",
     "text": [
      "hello\n"
     ]
    }
   ],
   "source": [
    "def say_hello():\n",
    "    print('hello')\n",
    "\n",
    "say_hello()"
   ]
  },
  {
   "cell_type": "code",
   "execution_count": 2,
   "metadata": {},
   "outputs": [
    {
     "name": "stdout",
     "output_type": "stream",
     "text": [
      "he there john!\n"
     ]
    }
   ],
   "source": [
    "def say_hellow_with_name(name):\n",
    "    print(f'hey there {name}!')\n",
    "\n",
    "say_hellow_with_name ('john')"
   ]
  },
  {
   "cell_type": "code",
   "execution_count": 6,
   "metadata": {},
   "outputs": [
    {
     "ename": "NameError",
     "evalue": "name 'num' is not defined",
     "output_type": "error",
     "traceback": [
      "\u001b[1;31m---------------------------------------------------------------------------\u001b[0m",
      "\u001b[1;31mNameError\u001b[0m                                 Traceback (most recent call last)",
      "\u001b[1;32mc:\\Users\\jeevs\\Documents\\pythonCourse\\Week-3\\functions.ipynb Cell 3'\u001b[0m in \u001b[0;36m<cell line: 7>\u001b[1;34m()\u001b[0m\n\u001b[0;32m      <a href='vscode-notebook-cell:/c%3A/Users/jeevs/Documents/pythonCourse/Week-3/functions.ipynb#ch0000002?line=3'>4</a>\u001b[0m     \u001b[39mprint\u001b[39m(num,num2)\n\u001b[0;32m      <a href='vscode-notebook-cell:/c%3A/Users/jeevs/Documents/pythonCourse/Week-3/functions.ipynb#ch0000002?line=4'>5</a>\u001b[0m     \u001b[39mreturn\u001b[39;00m num1 \u001b[39m+\u001b[39m num2\n\u001b[1;32m----> <a href='vscode-notebook-cell:/c%3A/Users/jeevs/Documents/pythonCourse/Week-3/functions.ipynb#ch0000002?line=6'>7</a>\u001b[0m \u001b[39mprint\u001b[39m(add_two(\u001b[39m3\u001b[39;49m, \u001b[39m4\u001b[39;49m))\n",
      "\u001b[1;32mc:\\Users\\jeevs\\Documents\\pythonCourse\\Week-3\\functions.ipynb Cell 3'\u001b[0m in \u001b[0;36madd_two\u001b[1;34m(num1, num2)\u001b[0m\n\u001b[0;32m      <a href='vscode-notebook-cell:/c%3A/Users/jeevs/Documents/pythonCourse/Week-3/functions.ipynb#ch0000002?line=2'>3</a>\u001b[0m \u001b[39mdef\u001b[39;00m \u001b[39madd_two\u001b[39m(num1, num2):\n\u001b[1;32m----> <a href='vscode-notebook-cell:/c%3A/Users/jeevs/Documents/pythonCourse/Week-3/functions.ipynb#ch0000002?line=3'>4</a>\u001b[0m     \u001b[39mprint\u001b[39m(num,num2)\n\u001b[0;32m      <a href='vscode-notebook-cell:/c%3A/Users/jeevs/Documents/pythonCourse/Week-3/functions.ipynb#ch0000002?line=4'>5</a>\u001b[0m     \u001b[39mreturn\u001b[39;00m num1 \u001b[39m+\u001b[39m num2\n",
      "\u001b[1;31mNameError\u001b[0m: name 'num' is not defined"
     ]
    }
   ],
   "source": [
    "#functions most often return a value\n",
    "\n",
    "def add_two(num1, num2):\n",
    "\n",
    "    return num1 + num2\n",
    "\n"
   ]
  },
  {
   "cell_type": "code",
   "execution_count": 14,
   "metadata": {},
   "outputs": [
    {
     "name": "stdout",
     "output_type": "stream",
     "text": [
      "21\n"
     ]
    }
   ],
   "source": [
    "#write a function to return the sum of the number in a list \n",
    "\n",
    "def sum_list(aLists):\n",
    "    total = 0\n",
    "    for aList in aLists:\n",
    "        total+=aList   \n",
    "    \n",
    "    return total\n",
    "\n",
    "list = {1,2,3,4,5,6}\n",
    "print(sum_list(list))"
   ]
  },
  {
   "cell_type": "code",
   "execution_count": 27,
   "metadata": {},
   "outputs": [
    {
     "name": "stdout",
     "output_type": "stream",
     "text": [
      "False\n",
      "True\n"
     ]
    }
   ],
   "source": [
    "# write a function that has two parameters: a string and a character\n",
    "#the fucntion must return true if the character is in the string, false other wise\n",
    "\n",
    "def stringValidator(string, char):\n",
    "    if string in char: \n",
    "        return True\n",
    "        \n",
    "    return False\n",
    "\n",
    "value  = stringValidator ('a', 'dbc')\n",
    "value2 = stringValidator ('Ab', 'Abr kdbr')\n",
    "print(value)\n",
    "print(value2)\n",
    "    \n"
   ]
  },
  {
   "cell_type": "code",
   "execution_count": 31,
   "metadata": {},
   "outputs": [
    {
     "name": "stdout",
     "output_type": "stream",
     "text": [
      "[-6]\n"
     ]
    }
   ],
   "source": [
    "#write a function that takes a list of numbers and returns a new list \n",
    "#with only the negative numbers. If there are no negative numbers \n",
    "#in the input list, we should return an empty list\n",
    "\n",
    "\n",
    "def negative_Values (lists):\n",
    "    list2 = []\n",
    "    for list in lists:\n",
    "        if list < 0:\n",
    "            list2.append (list)\n",
    "        \n",
    "    return list2\n",
    "\n",
    "test = [0,2,3,4]\n",
    "\n",
    "print(negative_Values([1,2,3,4,5,-6]))\n"
   ]
  },
  {
   "cell_type": "code",
   "execution_count": 38,
   "metadata": {},
   "outputs": [
    {
     "ename": "TypeError",
     "evalue": "unsupported operand type(s) for +=: 'int' and 'str'",
     "output_type": "error",
     "traceback": [
      "\u001b[1;31m---------------------------------------------------------------------------\u001b[0m",
      "\u001b[1;31mTypeError\u001b[0m                                 Traceback (most recent call last)",
      "\u001b[1;32mc:\\Users\\jeevs\\Documents\\pythonCourse\\Week-3\\functions.ipynb Cell 7'\u001b[0m in \u001b[0;36m<cell line: 11>\u001b[1;34m()\u001b[0m\n\u001b[0;32m      <a href='vscode-notebook-cell:/c%3A/Users/jeevs/Documents/pythonCourse/Week-3/functions.ipynb#ch0000006?line=7'>8</a>\u001b[0m         total \u001b[39m+\u001b[39m\u001b[39m=\u001b[39m item\n\u001b[0;32m      <a href='vscode-notebook-cell:/c%3A/Users/jeevs/Documents/pythonCourse/Week-3/functions.ipynb#ch0000006?line=8'>9</a>\u001b[0m     \u001b[39mreturn\u001b[39;00m total\n\u001b[1;32m---> <a href='vscode-notebook-cell:/c%3A/Users/jeevs/Documents/pythonCourse/Week-3/functions.ipynb#ch0000006?line=10'>11</a>\u001b[0m add (\u001b[39m'\u001b[39;49m\u001b[39ma\u001b[39;49m\u001b[39m'\u001b[39;49m,\u001b[39m'\u001b[39;49m\u001b[39mb\u001b[39;49m\u001b[39m'\u001b[39;49m,\u001b[39m'\u001b[39;49m\u001b[39mc\u001b[39;49m\u001b[39m'\u001b[39;49m,\u001b[39m'\u001b[39;49m\u001b[39md\u001b[39;49m\u001b[39m'\u001b[39;49m,\u001b[39m'\u001b[39;49m\u001b[39mg\u001b[39;49m\u001b[39m'\u001b[39;49m)\n",
      "\u001b[1;32mc:\\Users\\jeevs\\Documents\\pythonCourse\\Week-3\\functions.ipynb Cell 7'\u001b[0m in \u001b[0;36madd\u001b[1;34m(*args)\u001b[0m\n\u001b[0;32m      <a href='vscode-notebook-cell:/c%3A/Users/jeevs/Documents/pythonCourse/Week-3/functions.ipynb#ch0000006?line=5'>6</a>\u001b[0m total \u001b[39m=\u001b[39m \u001b[39m0\u001b[39m \n\u001b[0;32m      <a href='vscode-notebook-cell:/c%3A/Users/jeevs/Documents/pythonCourse/Week-3/functions.ipynb#ch0000006?line=6'>7</a>\u001b[0m \u001b[39mfor\u001b[39;00m item \u001b[39min\u001b[39;00m args:\n\u001b[1;32m----> <a href='vscode-notebook-cell:/c%3A/Users/jeevs/Documents/pythonCourse/Week-3/functions.ipynb#ch0000006?line=7'>8</a>\u001b[0m     total \u001b[39m+\u001b[39m\u001b[39m=\u001b[39m item\n\u001b[0;32m      <a href='vscode-notebook-cell:/c%3A/Users/jeevs/Documents/pythonCourse/Week-3/functions.ipynb#ch0000006?line=8'>9</a>\u001b[0m \u001b[39mreturn\u001b[39;00m total\n",
      "\u001b[1;31mTypeError\u001b[0m: unsupported operand type(s) for +=: 'int' and 'str'"
     ]
    }
   ],
   "source": [
    "#how do we write functions that can accept any number of arguments? \n",
    "\n",
    "#use *args\n",
    "\n",
    "def add(*args):\n",
    "    total = 0 \n",
    "    for item in args:\n",
    "        total += item\n",
    "    return total\n",
    "\n",
    "add ('a','b','c','d','g')"
   ]
  },
  {
   "cell_type": "code",
   "execution_count": 14,
   "metadata": {},
   "outputs": [
    {
     "name": "stdout",
     "output_type": "stream",
     "text": [
      "a=10, b=20\n",
      "2 and 1\n"
     ]
    }
   ],
   "source": [
    "#positional vs keyword arguments \n",
    "\n",
    "def func(a,b): \n",
    "    print(f'a={a}, b={b}')\n",
    "\n",
    "func(10,20)\n",
    "\n",
    "# we can define functions and then call themm with arguments in any order ... if they are keyword arguments\n",
    "\n",
    "#x and y are keyword arguments. they are also default arguments\n",
    "def bar(x=0, y=0): \n",
    "    print(x,y, sep=\" and \")\n",
    "\n",
    "bar(y =1, x=2)"
   ]
  },
  {
   "cell_type": "code",
   "execution_count": 1,
   "metadata": {},
   "outputs": [
    {
     "name": "stdout",
     "output_type": "stream",
     "text": [
      "Sanjeev...Balasunderam \n",
      "hello world\n"
     ]
    }
   ],
   "source": [
    "first_name = 'Sanjeev'\n",
    "last_name = 'Balasunderam'\n",
    "print(first_name, last_name, sep='...', end=\" \\n\")\n",
    "print('hello world')"
   ]
  },
  {
   "cell_type": "code",
   "execution_count": 19,
   "metadata": {},
   "outputs": [
    {
     "name": "stdout",
     "output_type": "stream",
     "text": [
      "Sanjeev\n",
      "Your hobbies are  soccer, basket, surfing, \n",
      "John\n",
      "city = Toronto\n",
      "age = 30\n",
      "Your hobbies are  sking, \n"
     ]
    }
   ],
   "source": [
    "# if we have positional, variable args and keywords args.. \n",
    "#positional args MUST go first\n",
    "# variable args next\n",
    "#keyword args last\n",
    "\n",
    "def baz (name, *args, **kwargs):\n",
    "    hobby_string = ''\n",
    "    print (name) \n",
    "\n",
    "    for item in args:\n",
    "        hobby_string += item +', ' \n",
    "\n",
    "    for key in kwargs:\n",
    "        print(f'{key} = {kwargs [key]}')\n",
    "\n",
    "    print ('Your hobbies are ' , hobby_string)\n",
    "\n",
    "\n",
    "baz('Sanjeev', 'soccer', 'basket', 'surfing')\n",
    "\n",
    "baz('John', 'sking', city = 'Toronto', age =30)\n"
   ]
  },
  {
   "cell_type": "code",
   "execution_count": 31,
   "metadata": {},
   "outputs": [
    {
     "name": "stdout",
     "output_type": "stream",
     "text": [
      "[7, 6, 5, 4, 2, 2, -5, -10]\n",
      "[-10, -5, 2, 2, 4, 5, 6, 7]\n",
      "[-10, -5, 2, 2, 4, 5, 6, 7]\n",
      "[{'title': 'Through the Night', 'genre': 'Pop', 'artiste': 'Travis Scott', 'year': '2016', 'length': 4.5}, {'title': 'From Time', 'genre': 'Pop', 'artiste': 'Drake, Jhene Aiko', 'year': '2013', 'length': 4}, {'title': 'Likes', 'genre': 'Reggae', 'artiste': 'Chronixx', 'year': '2017', 'length': 3.45}, {'title': 'Bodak Yellow', 'genre': 'Pop', 'artiste': 'Cardi B', 'year': '2017', 'length': 3.25}, {'title': 'Shake it Off', 'genre': 'Pop', 'artiste': 'Taylor Swift', 'year': '2016', 'length': 3.15}]\n"
     ]
    }
   ],
   "source": [
    "# lambda functions\n",
    "# single lines, we dont need to call them repeatedly (only once)\n",
    "playlist = [\n",
    "    {\n",
    "        'title': 'Bodak Yellow',\n",
    "        'genre': 'Pop',\n",
    "        'artiste': 'Cardi B',\n",
    "        'year': '2017',\n",
    "        'length': 3.25\n",
    "    },\n",
    "    {\n",
    "        'title': 'Shake it Off',\n",
    "        'genre': 'Pop',\n",
    "        'artiste': 'Taylor Swift',\n",
    "        'year': '2016',\n",
    "        'length': 3.15\n",
    "    },\n",
    "    {\n",
    "        'title': 'Through the Night',\n",
    "        'genre': 'Pop',\n",
    "        'artiste': 'Travis Scott',\n",
    "        'year': '2016',\n",
    "        'length': 4.50\n",
    "    },\n",
    "    {\n",
    "        'title': 'Likes',\n",
    "        'genre': 'Reggae',\n",
    "        'artiste': 'Chronixx',\n",
    "        'year': '2017',\n",
    "        'length': 3.45\n",
    "    },\n",
    "    {\n",
    "        'title': 'From Time',\n",
    "        'genre': 'Pop',\n",
    "        'artiste': 'Drake, Jhene Aiko',\n",
    "        'year': '2013',\n",
    "        'length': 4\n",
    "    }\n",
    "]\n",
    "\n",
    "\n",
    "\n",
    "def add(a,b):\n",
    "    return a+b\n",
    "    #as a lambda function \n",
    "    add = lambda a,b : a +b\n",
    "\n",
    "#what if we want to sort \n",
    "\n",
    "nums = [-10, 2,4,5,6,7,2,-5]\n",
    "\n",
    "print(sorted(nums,reverse=True))\n",
    "print(sorted(nums,reverse=False))\n",
    "print(sorted(nums))\n",
    "print(sorted(playlist,key=lambda song: song['length'], reverse= True))\n"
   ]
  }
 ],
 "metadata": {
  "interpreter": {
   "hash": "ff8820d68103f65a32e220fbaf67767b0ea0975cfea834e25ea838c1356d577f"
  },
  "kernelspec": {
   "display_name": "Python 3.10.5 64-bit",
   "language": "python",
   "name": "python3"
  },
  "language_info": {
   "codemirror_mode": {
    "name": "ipython",
    "version": 3
   },
   "file_extension": ".py",
   "mimetype": "text/x-python",
   "name": "python",
   "nbconvert_exporter": "python",
   "pygments_lexer": "ipython3",
   "version": "3.10.5"
  },
  "orig_nbformat": 4
 },
 "nbformat": 4,
 "nbformat_minor": 2
}
