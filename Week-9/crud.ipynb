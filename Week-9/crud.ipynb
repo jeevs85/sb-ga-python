{
 "cells": [
  {
   "cell_type": "code",
   "execution_count": 6,
   "metadata": {},
   "outputs": [
    {
     "name": "stdout",
     "output_type": "stream",
     "text": [
      "\u001b[31m\u001b[1mWARNING: This is a development server. Do not use it in a production deployment. Use a production WSGI server instead.\u001b[0m\n",
      " * Serving Flask app '__main__'\n",
      " * Debug mode: off\n"
     ]
    },
    {
     "name": "stderr",
     "output_type": "stream",
     "text": [
      " * Running on http://127.0.0.1:5000 (Press CTRL+C to quit)\n"
     ]
    }
   ],
   "source": [
    "#crud app for products in a store\n",
    "\n",
    "#what are we storing about the products\n",
    "    #id\n",
    "    #name\n",
    "    #description\n",
    "    #price\n",
    "    #id, name, description, price (products.csv)\n",
    "\n",
    "\n",
    "#create a product\n",
    "\n",
    "#read product data\n",
    "\n",
    "#delete a product\n",
    "\n",
    "from distutils.log import debug\n",
    "import pandas as pd\n",
    "from flask import Flask, render_template\n",
    "import json\n",
    "\n",
    "#create a flask app\n",
    "\n",
    "app = Flask(__name__) # invoke the Flask class\n",
    "\n",
    "@app.route('/')\n",
    "def index():\n",
    "    return render_template('base.html')\n",
    "\n",
    "@app.route('/products')\n",
    "def get_products(): #list all the products\n",
    "    #read my products file\n",
    "    product_list = pd.read_csv(\"p2.csv\")\n",
    "    #products = json.loads(product_list.to_json())\n",
    "\n",
    "    #[{id:, name, description, price}, {id:name, desc, price}]\n",
    "    \n",
    "    return render_template('products.html', products=product_list.to_dict('records'))\n",
    "   \n",
    "    #return product_list.to_dict('records') \n",
    "   \n",
    "\n",
    "if __name__ =='__main__':\n",
    "    app.run()\n",
    "\n",
    "\n",
    "#@app.route('/',methods=['GET','POST']) # define the first route, the home route"
   ]
  },
  {
   "cell_type": "code",
   "execution_count": null,
   "metadata": {},
   "outputs": [],
   "source": []
  }
 ],
 "metadata": {
  "kernelspec": {
   "display_name": "Python 3.10.6 64-bit (windows store)",
   "language": "python",
   "name": "python3"
  },
  "language_info": {
   "codemirror_mode": {
    "name": "ipython",
    "version": 3
   },
   "file_extension": ".py",
   "mimetype": "text/x-python",
   "name": "python",
   "nbconvert_exporter": "python",
   "pygments_lexer": "ipython3",
   "version": "3.10.6"
  },
  "orig_nbformat": 4,
  "vscode": {
   "interpreter": {
    "hash": "783990c4a001e11d764585373f7672162db02e7be1a23be286183ec5357d3682"
   }
  }
 },
 "nbformat": 4,
 "nbformat_minor": 2
}
