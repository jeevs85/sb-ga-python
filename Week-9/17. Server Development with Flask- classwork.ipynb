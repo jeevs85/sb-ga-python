{
 "cells": [
  {
   "cell_type": "markdown",
   "metadata": {},
   "source": [
    "#### 1. Running a Flask Server"
   ]
  },
  {
   "cell_type": "code",
   "execution_count": 16,
   "metadata": {},
   "outputs": [
    {
     "data": {
      "text/plain": [
       "'player choose rock but computer choose paper thus score adds 0'"
      ]
     },
     "execution_count": 16,
     "metadata": {},
     "output_type": "execute_result"
    }
   ],
   "source": [
    "rps_results = pd.read_csv(r'C:\\Users\\Chen\\OneDrive\\PY_Nov\\Jupyter Notebooks\\rock_paper_scissors_results.csv')\n",
    "f\"player choose {rps_results['player_choice'][0]} but computer choose {rps_results['computer_choice'][0]} thus score adds {rps_results['result'][0]}\""
   ]
  },
  {
   "cell_type": "code",
   "execution_count": 20,
   "metadata": {},
   "outputs": [
    {
     "data": {
      "text/plain": [
       "'rock'"
      ]
     },
     "execution_count": 20,
     "metadata": {},
     "output_type": "execute_result"
    }
   ],
   "source": []
  },
  {
   "cell_type": "code",
   "execution_count": 1,
   "metadata": {},
   "outputs": [
    {
     "name": "stdout",
     "output_type": "stream",
     "text": [
      "Requirement already satisfied: flask in c:\\users\\jeevs\\appdata\\local\\packages\\pythonsoftwarefoundation.python.3.10_qbz5n2kfra8p0\\localcache\\local-packages\\python310\\site-packages (2.2.1)\n",
      "Requirement already satisfied: Werkzeug>=2.2.0 in c:\\users\\jeevs\\appdata\\local\\packages\\pythonsoftwarefoundation.python.3.10_qbz5n2kfra8p0\\localcache\\local-packages\\python310\\site-packages (from flask) (2.2.1)\n",
      "Requirement already satisfied: itsdangerous>=2.0 in c:\\users\\jeevs\\appdata\\local\\packages\\pythonsoftwarefoundation.python.3.10_qbz5n2kfra8p0\\localcache\\local-packages\\python310\\site-packages (from flask) (2.1.2)\n",
      "Requirement already satisfied: Jinja2>=3.0 in c:\\users\\jeevs\\appdata\\local\\packages\\pythonsoftwarefoundation.python.3.10_qbz5n2kfra8p0\\localcache\\local-packages\\python310\\site-packages (from flask) (3.1.2)\n",
      "Requirement already satisfied: click>=8.0 in c:\\users\\jeevs\\appdata\\local\\packages\\pythonsoftwarefoundation.python.3.10_qbz5n2kfra8p0\\localcache\\local-packages\\python310\\site-packages (from flask) (8.1.3)\n",
      "Requirement already satisfied: colorama in c:\\users\\jeevs\\appdata\\local\\packages\\pythonsoftwarefoundation.python.3.10_qbz5n2kfra8p0\\localcache\\local-packages\\python310\\site-packages (from click>=8.0->flask) (0.4.5)\n",
      "Requirement already satisfied: MarkupSafe>=2.0 in c:\\users\\jeevs\\appdata\\local\\packages\\pythonsoftwarefoundation.python.3.10_qbz5n2kfra8p0\\localcache\\local-packages\\python310\\site-packages (from Jinja2>=3.0->flask) (2.1.1)\n",
      "Note: you may need to restart the kernel to use updated packages.\n",
      "\u001b[31m\u001b[1mWARNING: This is a development server. Do not use it in a production deployment. Use a production WSGI server instead.\u001b[0m\n",
      " * Serving Flask app '__main__'\n",
      " * Debug mode: off\n"
     ]
    },
    {
     "name": "stderr",
     "output_type": "stream",
     "text": [
      " * Running on http://127.0.0.1:5000 (Press CTRL+C to quit)\n",
      "127.0.0.1 - - [08/Aug/2022 18:42:13] \"GET / HTTP/1.1\" 404 -\n",
      "127.0.0.1 - - [08/Aug/2022 18:42:14] \"GET /favicon.ico HTTP/1.1\" 404 -\n"
     ]
    }
   ],
   "source": [
    "%pip install flask\n",
    "from flask import Flask, render_template # import the Flask class to create an app\n",
    "import pandas as pd\n",
    "\n",
    "app = Flask(__name__) # invoke the Flask clas\n",
    "\n",
    "@app.route('/<string_input>/display') # define the first route, the home route\n",
    "def what_to_do(string_input): # define the function that responds to the above route\n",
    "    return f\"hello world... you have given {string_input} before /display\"\n",
    "\n",
    "@app.route('/csv') # define the first route, the home route\n",
    "def what_to_do_csv(): # define the function that responds to the above route\n",
    "  rps_results = pd.read_csv(r'C:\\Users\\Chen\\OneDrive\\PY_Nov\\Jupyter Notebooks\\rock_paper_scissors_results.csv')\n",
    "  return f\"player choose {rps_results['player_choice'][0]} but computer choose {rps_results['computer_choice'][0]} thus score adds {rps_results['result'][0]}\"\n",
    "\n",
    "app.run() # Start the server listening for requests"
   ]
  },
  {
   "cell_type": "markdown",
   "metadata": {},
   "source": [
    "#### 2. API Routes\n",
    "Create each of the seven RESTful routes for \"/reviews\", responding with a string describing what the route's purpose is. Note that, in order for these routes to be part of the app, you will have to move the app.run()  conditional statement to be the very last piece of code in the app."
   ]
  },
  {
   "cell_type": "code",
   "execution_count": null,
   "metadata": {},
   "outputs": [],
   "source": [
    "#GET\n",
    "from flask import Flask, render_template # import the Flask class to create an app\n",
    "import pandas as pd\n",
    "\n",
    "app = Flask(__name__) # invoke the Flask class\n",
    "\n",
    "\n",
    "@app.route('/',methods='GET') # define the first route, the home route\n",
    "def what_to_do(string_input): # define the function that responds to the above route\n",
    "    return f\"hello world... you have given {string_input} before /display\"\n",
    "\n"
   ]
  },
  {
   "cell_type": "code",
   "execution_count": 2,
   "metadata": {},
   "outputs": [],
   "source": [
    "import datetime\n"
   ]
  },
  {
   "cell_type": "code",
   "execution_count": 50,
   "metadata": {},
   "outputs": [
    {
     "name": "stdout",
     "output_type": "stream",
     "text": [
      " * Serving Flask app \"__main__\" (lazy loading)\n",
      " * Environment: production\n",
      "\u001b[31m   WARNING: This is a development server. Do not use it in a production deployment.\u001b[0m\n",
      "\u001b[2m   Use a production WSGI server instead.\u001b[0m\n",
      " * Debug mode: off\n"
     ]
    },
    {
     "name": "stderr",
     "output_type": "stream",
     "text": [
      " * Running on http://127.0.0.1:5000/ (Press CTRL+C to quit)\n",
      "127.0.0.1 - - [02/Feb/2022 21:25:31] \"GET / HTTP/1.1\" 200 -\n"
     ]
    }
   ],
   "source": [
    "#POST\n",
    "#GET\n",
    "from flask import Flask, render_template,request # import the Flask class to create an app\n",
    "import pandas as pd\n",
    "import datetime\n",
    "\n",
    "app = Flask(__name__) # invoke the Flask class\n",
    "\n",
    "@app.route('/',methods=['GET','POST']) # define the first route, the home route\n",
    "def main_page(): # define the function that responds to the above route\n",
    "    if request.method == \"GET\":\n",
    "        return render_template('demo.html')\n",
    "    elif request.method == \"POST\":\n",
    "        first_name = request.form.get('fname')\n",
    "        last_name = request.form.get('lname')\n",
    "        df = pd.DataFrame([first_name,last_name])\n",
    "        ts = datetime.datetime.today().strftime(\"%Y%m%d-%H%M%S\")\n",
    "        df.to_csv('client_name'+ts+'.csv')\n",
    "        return f\"{request.form.get('fname')} {request.form.get('lname')} is saved as a csv on the harddrive\"\n",
    "\n",
    "@app.route('/page1',methods=['GET','POST']) # define the first route, the home route\n",
    "def page1(): # define the function that responds to the above route\n",
    "    if request.method == \"GET\":\n",
    "        return render_template('demo.html')\n",
    "    elif request.method == \"POST\":\n",
    "        first_name = request.form.get('fname')\n",
    "        last_name = request.form.get('lname')\n",
    "        df = pd.DataFrame([first_name,last_name])\n",
    "        ts = datetime.datetime.today().strftime(\"%Y%m%d-%H%M%S\")\n",
    "        df.to_csv('client_name'+ts+'.csv')\n",
    "        return f\"{request.form.get('fname')} {request.form.get('lname')} is saved as a csv on the harddrive\"\n",
    "\n",
    "\n",
    "app.run() # Start the server listening for requests\n"
   ]
  },
  {
   "cell_type": "code",
   "execution_count": null,
   "metadata": {},
   "outputs": [],
   "source": [
    "{'first_name':'Chen','last_name':'SHen'}"
   ]
  },
  {
   "cell_type": "code",
   "execution_count": null,
   "metadata": {},
   "outputs": [],
   "source": [
    "# A. index"
   ]
  },
  {
   "cell_type": "code",
   "execution_count": null,
   "metadata": {},
   "outputs": [],
   "source": [
    "# B. create"
   ]
  },
  {
   "cell_type": "code",
   "execution_count": null,
   "metadata": {},
   "outputs": [],
   "source": [
    "# C. show"
   ]
  },
  {
   "cell_type": "code",
   "execution_count": null,
   "metadata": {},
   "outputs": [],
   "source": [
    "# D. update"
   ]
  },
  {
   "cell_type": "code",
   "execution_count": null,
   "metadata": {},
   "outputs": [],
   "source": [
    "# E. delete"
   ]
  },
  {
   "cell_type": "code",
   "execution_count": null,
   "metadata": {},
   "outputs": [],
   "source": [
    "# F. new"
   ]
  },
  {
   "cell_type": "code",
   "execution_count": null,
   "metadata": {},
   "outputs": [],
   "source": [
    "# G. edit"
   ]
  }
 ],
 "metadata": {
  "kernelspec": {
   "display_name": "Python 3.10.6 64-bit (windows store)",
   "language": "python",
   "name": "python3"
  },
  "language_info": {
   "codemirror_mode": {
    "name": "ipython",
    "version": 3
   },
   "file_extension": ".py",
   "mimetype": "text/x-python",
   "name": "python",
   "nbconvert_exporter": "python",
   "pygments_lexer": "ipython3",
   "version": "3.10.6"
  },
  "vscode": {
   "interpreter": {
    "hash": "783990c4a001e11d764585373f7672162db02e7be1a23be286183ec5357d3682"
   }
  }
 },
 "nbformat": 4,
 "nbformat_minor": 4
}
