{
 "cells": [
  {
   "cell_type": "code",
   "execution_count": 21,
   "metadata": {},
   "outputs": [
    {
     "name": "stdout",
     "output_type": "stream",
     "text": [
      "[{'id': 1, 'name': 'dan'}]\n",
      "\u001b[31m\u001b[1mWARNING: This is a development server. Do not use it in a production deployment. Use a production WSGI server instead.\u001b[0m\n",
      " * Serving Flask app '__main__'\n",
      " * Debug mode: off\n"
     ]
    },
    {
     "name": "stderr",
     "output_type": "stream",
     "text": [
      " * Running on http://127.0.0.1:5000 (Press CTRL+C to quit)\n",
      "127.0.0.1 - - [03/Aug/2022 20:28:50] \"GET /classmates/3 HTTP/1.1\" 200 -\n",
      "127.0.0.1 - - [03/Aug/2022 20:28:51] \"GET /favicon.ico HTTP/1.1\" 200 -\n",
      "127.0.0.1 - - [03/Aug/2022 20:32:30] \"GET /classmates/3 HTTP/1.1\" 200 -\n",
      "127.0.0.1 - - [03/Aug/2022 20:32:30] \"GET /favicon.ico HTTP/1.1\" 200 -\n"
     ]
    }
   ],
   "source": [
    "\n",
    "from flask import Flask\n",
    "import json\n",
    "app = Flask(__name__)\n",
    "\n",
    "@app.route('/') # the home route\n",
    "def index ():\n",
    "    return 'hello world'\n",
    "\n",
    "#create another sub route\n",
    "\n",
    "@app.route('/hello')\n",
    "def say_hello():\n",
    "    return 'hey there!'\n",
    "\n",
    "#use a route parameter\n",
    "@app.route('/<name>')\n",
    "def say_hello_with_name(name):\n",
    "    return f'hey there {name}'\n",
    "\n",
    "@app.route('/classmates')\n",
    "def get_classmates():\n",
    "    return {\"response_code\": 200, \"data\": ['dan', 'pavel', 'enzo', 'son', 'priscilla', 'Sanjeev']}\n",
    "\n",
    "#implement a route that reutnrs the classmate that matches an id \n",
    "#create a list of dictionaries, with each name having an id\n",
    "\n",
    "\n",
    "print(names)\n",
    "@app.route('/classmates/<id>')\n",
    "def get_classmate(id):\n",
    "    names = [{'id':1, 'name':'dan'}, {'id':2, 'name':'priscilla'}, {'id':3, 'name':'ella'}, {'id':4, 'name':'enzo'}]\n",
    "    names_object = json.dumps(names, indent = 4)\n",
    "\n",
    "    for item in names:\n",
    "        if item['id'] ==int(id):\n",
    "            return item\n",
    "    \n",
    "    return {\"response_code\": 404} \n",
    "\n",
    "\n",
    "\n",
    "    #return {\"response_code\":200, \"data\": names['id']}\n",
    "\n",
    "if __name__ == '__main__':\n",
    "    app.run()\n"
   ]
  }
 ],
 "metadata": {
  "kernelspec": {
   "display_name": "Python 3.10.6 64-bit (windows store)",
   "language": "python",
   "name": "python3"
  },
  "language_info": {
   "codemirror_mode": {
    "name": "ipython",
    "version": 3
   },
   "file_extension": ".py",
   "mimetype": "text/x-python",
   "name": "python",
   "nbconvert_exporter": "python",
   "pygments_lexer": "ipython3",
   "version": "3.10.6"
  },
  "orig_nbformat": 4,
  "vscode": {
   "interpreter": {
    "hash": "783990c4a001e11d764585373f7672162db02e7be1a23be286183ec5357d3682"
   }
  }
 },
 "nbformat": 4,
 "nbformat_minor": 2
}
