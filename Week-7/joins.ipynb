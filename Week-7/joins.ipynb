{
 "cells": [
  {
   "cell_type": "code",
   "execution_count": 2,
   "metadata": {},
   "outputs": [],
   "source": [
    "#create dataframe\n",
    "import pandas as pd\n",
    "\n",
    "data = {'Make': ['Toyota', 'Lexus', 'BMW', 'Hyundai'], \"Model\": ['Rav 4', 'Ls20', 'X3', 'Elantra'], 'Year':[2018, 2015, 2012, 2022]}\n",
    "\n",
    "cars = pd.DataFrame(data)\n"
   ]
  },
  {
   "cell_type": "code",
   "execution_count": 3,
   "metadata": {},
   "outputs": [
    {
     "data": {
      "text/html": [
       "<div>\n",
       "<style scoped>\n",
       "    .dataframe tbody tr th:only-of-type {\n",
       "        vertical-align: middle;\n",
       "    }\n",
       "\n",
       "    .dataframe tbody tr th {\n",
       "        vertical-align: top;\n",
       "    }\n",
       "\n",
       "    .dataframe thead th {\n",
       "        text-align: right;\n",
       "    }\n",
       "</style>\n",
       "<table border=\"1\" class=\"dataframe\">\n",
       "  <thead>\n",
       "    <tr style=\"text-align: right;\">\n",
       "      <th></th>\n",
       "      <th>Make</th>\n",
       "      <th>Model</th>\n",
       "      <th>Year</th>\n",
       "    </tr>\n",
       "  </thead>\n",
       "  <tbody>\n",
       "    <tr>\n",
       "      <th>0</th>\n",
       "      <td>Toyota</td>\n",
       "      <td>Rav 4</td>\n",
       "      <td>2018</td>\n",
       "    </tr>\n",
       "    <tr>\n",
       "      <th>1</th>\n",
       "      <td>Lexus</td>\n",
       "      <td>Ls20</td>\n",
       "      <td>2015</td>\n",
       "    </tr>\n",
       "    <tr>\n",
       "      <th>2</th>\n",
       "      <td>BMW</td>\n",
       "      <td>X3</td>\n",
       "      <td>2012</td>\n",
       "    </tr>\n",
       "    <tr>\n",
       "      <th>3</th>\n",
       "      <td>Hyundai</td>\n",
       "      <td>Elantra</td>\n",
       "      <td>2022</td>\n",
       "    </tr>\n",
       "  </tbody>\n",
       "</table>\n",
       "</div>"
      ],
      "text/plain": [
       "      Make    Model  Year\n",
       "0   Toyota    Rav 4  2018\n",
       "1    Lexus     Ls20  2015\n",
       "2      BMW       X3  2012\n",
       "3  Hyundai  Elantra  2022"
      ]
     },
     "execution_count": 3,
     "metadata": {},
     "output_type": "execute_result"
    }
   ],
   "source": [
    "cars"
   ]
  },
  {
   "cell_type": "code",
   "execution_count": 4,
   "metadata": {},
   "outputs": [
    {
     "data": {
      "text/html": [
       "<div>\n",
       "<style scoped>\n",
       "    .dataframe tbody tr th:only-of-type {\n",
       "        vertical-align: middle;\n",
       "    }\n",
       "\n",
       "    .dataframe tbody tr th {\n",
       "        vertical-align: top;\n",
       "    }\n",
       "\n",
       "    .dataframe thead th {\n",
       "        text-align: right;\n",
       "    }\n",
       "</style>\n",
       "<table border=\"1\" class=\"dataframe\">\n",
       "  <thead>\n",
       "    <tr style=\"text-align: right;\">\n",
       "      <th></th>\n",
       "      <th>Make</th>\n",
       "      <th>Model</th>\n",
       "      <th>Year</th>\n",
       "    </tr>\n",
       "  </thead>\n",
       "  <tbody>\n",
       "    <tr>\n",
       "      <th>0</th>\n",
       "      <td>Toyota</td>\n",
       "      <td>Rav 4</td>\n",
       "      <td>2018</td>\n",
       "    </tr>\n",
       "    <tr>\n",
       "      <th>1</th>\n",
       "      <td>Lexus</td>\n",
       "      <td>Ls20</td>\n",
       "      <td>2015</td>\n",
       "    </tr>\n",
       "    <tr>\n",
       "      <th>2</th>\n",
       "      <td>BMW</td>\n",
       "      <td>X3</td>\n",
       "      <td>2012</td>\n",
       "    </tr>\n",
       "    <tr>\n",
       "      <th>3</th>\n",
       "      <td>Hyundai</td>\n",
       "      <td>Elantra</td>\n",
       "      <td>2022</td>\n",
       "    </tr>\n",
       "    <tr>\n",
       "      <th>0</th>\n",
       "      <td>Toyota</td>\n",
       "      <td>Corolla</td>\n",
       "      <td>2018</td>\n",
       "    </tr>\n",
       "    <tr>\n",
       "      <th>1</th>\n",
       "      <td>Lexus</td>\n",
       "      <td>Ls200</td>\n",
       "      <td>2015</td>\n",
       "    </tr>\n",
       "    <tr>\n",
       "      <th>2</th>\n",
       "      <td>BMW</td>\n",
       "      <td>M3</td>\n",
       "      <td>2012</td>\n",
       "    </tr>\n",
       "    <tr>\n",
       "      <th>3</th>\n",
       "      <td>Hyundai</td>\n",
       "      <td>Sonata</td>\n",
       "      <td>2022</td>\n",
       "    </tr>\n",
       "  </tbody>\n",
       "</table>\n",
       "</div>"
      ],
      "text/plain": [
       "      Make    Model  Year\n",
       "0   Toyota    Rav 4  2018\n",
       "1    Lexus     Ls20  2015\n",
       "2      BMW       X3  2012\n",
       "3  Hyundai  Elantra  2022\n",
       "0   Toyota  Corolla  2018\n",
       "1    Lexus    Ls200  2015\n",
       "2      BMW       M3  2012\n",
       "3  Hyundai   Sonata  2022"
      ]
     },
     "execution_count": 4,
     "metadata": {},
     "output_type": "execute_result"
    }
   ],
   "source": [
    "\n",
    "\n",
    "moreData = {'Make': ['Toyota', 'Lexus', 'BMW', 'Hyundai'], \"Model\": ['Corolla', 'Ls200', 'M3', 'Sonata'], 'Year':[2018, 2015, 2012, 2022]}\n",
    "moreCars = pd.DataFrame(moreData)\n",
    "\n",
    "pd.concat([cars,moreCars])"
   ]
  },
  {
   "cell_type": "code",
   "execution_count": 5,
   "metadata": {},
   "outputs": [
    {
     "data": {
      "text/html": [
       "<div>\n",
       "<style scoped>\n",
       "    .dataframe tbody tr th:only-of-type {\n",
       "        vertical-align: middle;\n",
       "    }\n",
       "\n",
       "    .dataframe tbody tr th {\n",
       "        vertical-align: top;\n",
       "    }\n",
       "\n",
       "    .dataframe thead th {\n",
       "        text-align: right;\n",
       "    }\n",
       "</style>\n",
       "<table border=\"1\" class=\"dataframe\">\n",
       "  <thead>\n",
       "    <tr style=\"text-align: right;\">\n",
       "      <th></th>\n",
       "      <th>Make</th>\n",
       "      <th>Model</th>\n",
       "      <th>Year</th>\n",
       "      <th>Price</th>\n",
       "      <th>Seats</th>\n",
       "    </tr>\n",
       "  </thead>\n",
       "  <tbody>\n",
       "    <tr>\n",
       "      <th>0</th>\n",
       "      <td>Toyota</td>\n",
       "      <td>Rav 4</td>\n",
       "      <td>2018</td>\n",
       "      <td>25000</td>\n",
       "      <td>5</td>\n",
       "    </tr>\n",
       "    <tr>\n",
       "      <th>1</th>\n",
       "      <td>Lexus</td>\n",
       "      <td>Ls20</td>\n",
       "      <td>2015</td>\n",
       "      <td>50000</td>\n",
       "      <td>5</td>\n",
       "    </tr>\n",
       "    <tr>\n",
       "      <th>2</th>\n",
       "      <td>BMW</td>\n",
       "      <td>X3</td>\n",
       "      <td>2012</td>\n",
       "      <td>54000</td>\n",
       "      <td>5</td>\n",
       "    </tr>\n",
       "    <tr>\n",
       "      <th>3</th>\n",
       "      <td>Hyundai</td>\n",
       "      <td>Elantra</td>\n",
       "      <td>2022</td>\n",
       "      <td>27000</td>\n",
       "      <td>5</td>\n",
       "    </tr>\n",
       "  </tbody>\n",
       "</table>\n",
       "</div>"
      ],
      "text/plain": [
       "      Make    Model  Year  Price  Seats\n",
       "0   Toyota    Rav 4  2018  25000      5\n",
       "1    Lexus     Ls20  2015  50000      5\n",
       "2      BMW       X3  2012  54000      5\n",
       "3  Hyundai  Elantra  2022  27000      5"
      ]
     },
     "execution_count": 5,
     "metadata": {},
     "output_type": "execute_result"
    }
   ],
   "source": [
    "price_data = {'Price': [25000, 50000, 54000, 27000], 'Seats': [5, 5, 5, 5]}\n",
    "\n",
    "prices = pd.DataFrame(price_data)\n",
    "\n",
    "pd.concat([cars, prices], axis=1)"
   ]
  },
  {
   "cell_type": "code",
   "execution_count": 9,
   "metadata": {},
   "outputs": [
    {
     "ename": "KeyError",
     "evalue": "'movie_id'",
     "output_type": "error",
     "traceback": [
      "\u001b[1;31m---------------------------------------------------------------------------\u001b[0m",
      "\u001b[1;31mKeyError\u001b[0m                                  Traceback (most recent call last)",
      "\u001b[1;32mc:\\Users\\jeevs\\Documents\\pythonCourse\\Week-7\\joins.ipynb Cell 5'\u001b[0m in \u001b[0;36m<cell line: 6>\u001b[1;34m()\u001b[0m\n\u001b[0;32m      <a href='vscode-notebook-cell:/c%3A/Users/jeevs/Documents/pythonCourse/Week-7/joins.ipynb#ch0000004?line=2'>3</a>\u001b[0m movies \u001b[39m=\u001b[39m pd\u001b[39m.\u001b[39mread_csv(\u001b[39m\"\u001b[39m\u001b[39mmovies.csv\u001b[39m\u001b[39m\"\u001b[39m)\n\u001b[0;32m      <a href='vscode-notebook-cell:/c%3A/Users/jeevs/Documents/pythonCourse/Week-7/joins.ipynb#ch0000004?line=3'>4</a>\u001b[0m actors \u001b[39m=\u001b[39m pd\u001b[39m.\u001b[39mread_csv(\u001b[39m\"\u001b[39m\u001b[39mactors.csv\u001b[39m\u001b[39m\"\u001b[39m)\n\u001b[1;32m----> <a href='vscode-notebook-cell:/c%3A/Users/jeevs/Documents/pythonCourse/Week-7/joins.ipynb#ch0000004?line=5'>6</a>\u001b[0m pd\u001b[39m.\u001b[39;49mmerge(movies, actors, how\u001b[39m=\u001b[39;49m \u001b[39m'\u001b[39;49m\u001b[39mrigh\u001b[39;49m\u001b[39m'\u001b[39;49m, on\u001b[39m=\u001b[39;49m\u001b[39m'\u001b[39;49m\u001b[39mmovie_id\u001b[39;49m\u001b[39m'\u001b[39;49m)\n",
      "File \u001b[1;32mc:\\Users\\jeevs\\AppData\\Local\\Programs\\Python\\Python310\\lib\\site-packages\\pandas\\core\\reshape\\merge.py:107\u001b[0m, in \u001b[0;36mmerge\u001b[1;34m(left, right, how, on, left_on, right_on, left_index, right_index, sort, suffixes, copy, indicator, validate)\u001b[0m\n\u001b[0;32m     <a href='file:///c%3A/Users/jeevs/AppData/Local/Programs/Python/Python310/lib/site-packages/pandas/core/reshape/merge.py?line=89'>90</a>\u001b[0m \u001b[39m@Substitution\u001b[39m(\u001b[39m\"\u001b[39m\u001b[39m\\n\u001b[39;00m\u001b[39mleft : DataFrame or named Series\u001b[39m\u001b[39m\"\u001b[39m)\n\u001b[0;32m     <a href='file:///c%3A/Users/jeevs/AppData/Local/Programs/Python/Python310/lib/site-packages/pandas/core/reshape/merge.py?line=90'>91</a>\u001b[0m \u001b[39m@Appender\u001b[39m(_merge_doc, indents\u001b[39m=\u001b[39m\u001b[39m0\u001b[39m)\n\u001b[0;32m     <a href='file:///c%3A/Users/jeevs/AppData/Local/Programs/Python/Python310/lib/site-packages/pandas/core/reshape/merge.py?line=91'>92</a>\u001b[0m \u001b[39mdef\u001b[39;00m \u001b[39mmerge\u001b[39m(\n\u001b[1;32m   (...)\u001b[0m\n\u001b[0;32m    <a href='file:///c%3A/Users/jeevs/AppData/Local/Programs/Python/Python310/lib/site-packages/pandas/core/reshape/merge.py?line=104'>105</a>\u001b[0m     validate: \u001b[39mstr\u001b[39m \u001b[39m|\u001b[39m \u001b[39mNone\u001b[39;00m \u001b[39m=\u001b[39m \u001b[39mNone\u001b[39;00m,\n\u001b[0;32m    <a href='file:///c%3A/Users/jeevs/AppData/Local/Programs/Python/Python310/lib/site-packages/pandas/core/reshape/merge.py?line=105'>106</a>\u001b[0m ) \u001b[39m-\u001b[39m\u001b[39m>\u001b[39m DataFrame:\n\u001b[1;32m--> <a href='file:///c%3A/Users/jeevs/AppData/Local/Programs/Python/Python310/lib/site-packages/pandas/core/reshape/merge.py?line=106'>107</a>\u001b[0m     op \u001b[39m=\u001b[39m _MergeOperation(\n\u001b[0;32m    <a href='file:///c%3A/Users/jeevs/AppData/Local/Programs/Python/Python310/lib/site-packages/pandas/core/reshape/merge.py?line=107'>108</a>\u001b[0m         left,\n\u001b[0;32m    <a href='file:///c%3A/Users/jeevs/AppData/Local/Programs/Python/Python310/lib/site-packages/pandas/core/reshape/merge.py?line=108'>109</a>\u001b[0m         right,\n\u001b[0;32m    <a href='file:///c%3A/Users/jeevs/AppData/Local/Programs/Python/Python310/lib/site-packages/pandas/core/reshape/merge.py?line=109'>110</a>\u001b[0m         how\u001b[39m=\u001b[39;49mhow,\n\u001b[0;32m    <a href='file:///c%3A/Users/jeevs/AppData/Local/Programs/Python/Python310/lib/site-packages/pandas/core/reshape/merge.py?line=110'>111</a>\u001b[0m         on\u001b[39m=\u001b[39;49mon,\n\u001b[0;32m    <a href='file:///c%3A/Users/jeevs/AppData/Local/Programs/Python/Python310/lib/site-packages/pandas/core/reshape/merge.py?line=111'>112</a>\u001b[0m         left_on\u001b[39m=\u001b[39;49mleft_on,\n\u001b[0;32m    <a href='file:///c%3A/Users/jeevs/AppData/Local/Programs/Python/Python310/lib/site-packages/pandas/core/reshape/merge.py?line=112'>113</a>\u001b[0m         right_on\u001b[39m=\u001b[39;49mright_on,\n\u001b[0;32m    <a href='file:///c%3A/Users/jeevs/AppData/Local/Programs/Python/Python310/lib/site-packages/pandas/core/reshape/merge.py?line=113'>114</a>\u001b[0m         left_index\u001b[39m=\u001b[39;49mleft_index,\n\u001b[0;32m    <a href='file:///c%3A/Users/jeevs/AppData/Local/Programs/Python/Python310/lib/site-packages/pandas/core/reshape/merge.py?line=114'>115</a>\u001b[0m         right_index\u001b[39m=\u001b[39;49mright_index,\n\u001b[0;32m    <a href='file:///c%3A/Users/jeevs/AppData/Local/Programs/Python/Python310/lib/site-packages/pandas/core/reshape/merge.py?line=115'>116</a>\u001b[0m         sort\u001b[39m=\u001b[39;49msort,\n\u001b[0;32m    <a href='file:///c%3A/Users/jeevs/AppData/Local/Programs/Python/Python310/lib/site-packages/pandas/core/reshape/merge.py?line=116'>117</a>\u001b[0m         suffixes\u001b[39m=\u001b[39;49msuffixes,\n\u001b[0;32m    <a href='file:///c%3A/Users/jeevs/AppData/Local/Programs/Python/Python310/lib/site-packages/pandas/core/reshape/merge.py?line=117'>118</a>\u001b[0m         copy\u001b[39m=\u001b[39;49mcopy,\n\u001b[0;32m    <a href='file:///c%3A/Users/jeevs/AppData/Local/Programs/Python/Python310/lib/site-packages/pandas/core/reshape/merge.py?line=118'>119</a>\u001b[0m         indicator\u001b[39m=\u001b[39;49mindicator,\n\u001b[0;32m    <a href='file:///c%3A/Users/jeevs/AppData/Local/Programs/Python/Python310/lib/site-packages/pandas/core/reshape/merge.py?line=119'>120</a>\u001b[0m         validate\u001b[39m=\u001b[39;49mvalidate,\n\u001b[0;32m    <a href='file:///c%3A/Users/jeevs/AppData/Local/Programs/Python/Python310/lib/site-packages/pandas/core/reshape/merge.py?line=120'>121</a>\u001b[0m     )\n\u001b[0;32m    <a href='file:///c%3A/Users/jeevs/AppData/Local/Programs/Python/Python310/lib/site-packages/pandas/core/reshape/merge.py?line=121'>122</a>\u001b[0m     \u001b[39mreturn\u001b[39;00m op\u001b[39m.\u001b[39mget_result()\n",
      "File \u001b[1;32mc:\\Users\\jeevs\\AppData\\Local\\Programs\\Python\\Python310\\lib\\site-packages\\pandas\\core\\reshape\\merge.py:700\u001b[0m, in \u001b[0;36m_MergeOperation.__init__\u001b[1;34m(self, left, right, how, on, left_on, right_on, axis, left_index, right_index, sort, suffixes, copy, indicator, validate)\u001b[0m\n\u001b[0;32m    <a href='file:///c%3A/Users/jeevs/AppData/Local/Programs/Python/Python310/lib/site-packages/pandas/core/reshape/merge.py?line=692'>693</a>\u001b[0m \u001b[39mself\u001b[39m\u001b[39m.\u001b[39m_cross \u001b[39m=\u001b[39m cross_col\n\u001b[0;32m    <a href='file:///c%3A/Users/jeevs/AppData/Local/Programs/Python/Python310/lib/site-packages/pandas/core/reshape/merge.py?line=694'>695</a>\u001b[0m \u001b[39m# note this function has side effects\u001b[39;00m\n\u001b[0;32m    <a href='file:///c%3A/Users/jeevs/AppData/Local/Programs/Python/Python310/lib/site-packages/pandas/core/reshape/merge.py?line=695'>696</a>\u001b[0m (\n\u001b[0;32m    <a href='file:///c%3A/Users/jeevs/AppData/Local/Programs/Python/Python310/lib/site-packages/pandas/core/reshape/merge.py?line=696'>697</a>\u001b[0m     \u001b[39mself\u001b[39m\u001b[39m.\u001b[39mleft_join_keys,\n\u001b[0;32m    <a href='file:///c%3A/Users/jeevs/AppData/Local/Programs/Python/Python310/lib/site-packages/pandas/core/reshape/merge.py?line=697'>698</a>\u001b[0m     \u001b[39mself\u001b[39m\u001b[39m.\u001b[39mright_join_keys,\n\u001b[0;32m    <a href='file:///c%3A/Users/jeevs/AppData/Local/Programs/Python/Python310/lib/site-packages/pandas/core/reshape/merge.py?line=698'>699</a>\u001b[0m     \u001b[39mself\u001b[39m\u001b[39m.\u001b[39mjoin_names,\n\u001b[1;32m--> <a href='file:///c%3A/Users/jeevs/AppData/Local/Programs/Python/Python310/lib/site-packages/pandas/core/reshape/merge.py?line=699'>700</a>\u001b[0m ) \u001b[39m=\u001b[39m \u001b[39mself\u001b[39;49m\u001b[39m.\u001b[39;49m_get_merge_keys()\n\u001b[0;32m    <a href='file:///c%3A/Users/jeevs/AppData/Local/Programs/Python/Python310/lib/site-packages/pandas/core/reshape/merge.py?line=701'>702</a>\u001b[0m \u001b[39m# validate the merge keys dtypes. We may need to coerce\u001b[39;00m\n\u001b[0;32m    <a href='file:///c%3A/Users/jeevs/AppData/Local/Programs/Python/Python310/lib/site-packages/pandas/core/reshape/merge.py?line=702'>703</a>\u001b[0m \u001b[39m# to avoid incompatible dtypes\u001b[39;00m\n\u001b[0;32m    <a href='file:///c%3A/Users/jeevs/AppData/Local/Programs/Python/Python310/lib/site-packages/pandas/core/reshape/merge.py?line=703'>704</a>\u001b[0m \u001b[39mself\u001b[39m\u001b[39m.\u001b[39m_maybe_coerce_merge_keys()\n",
      "File \u001b[1;32mc:\\Users\\jeevs\\AppData\\Local\\Programs\\Python\\Python310\\lib\\site-packages\\pandas\\core\\reshape\\merge.py:1110\u001b[0m, in \u001b[0;36m_MergeOperation._get_merge_keys\u001b[1;34m(self)\u001b[0m\n\u001b[0;32m   <a href='file:///c%3A/Users/jeevs/AppData/Local/Programs/Python/Python310/lib/site-packages/pandas/core/reshape/merge.py?line=1107'>1108</a>\u001b[0m     right_keys\u001b[39m.\u001b[39mappend(rk)\n\u001b[0;32m   <a href='file:///c%3A/Users/jeevs/AppData/Local/Programs/Python/Python310/lib/site-packages/pandas/core/reshape/merge.py?line=1108'>1109</a>\u001b[0m \u001b[39mif\u001b[39;00m lk \u001b[39mis\u001b[39;00m \u001b[39mnot\u001b[39;00m \u001b[39mNone\u001b[39;00m:\n\u001b[1;32m-> <a href='file:///c%3A/Users/jeevs/AppData/Local/Programs/Python/Python310/lib/site-packages/pandas/core/reshape/merge.py?line=1109'>1110</a>\u001b[0m     left_keys\u001b[39m.\u001b[39mappend(left\u001b[39m.\u001b[39;49m_get_label_or_level_values(lk))\n\u001b[0;32m   <a href='file:///c%3A/Users/jeevs/AppData/Local/Programs/Python/Python310/lib/site-packages/pandas/core/reshape/merge.py?line=1110'>1111</a>\u001b[0m     join_names\u001b[39m.\u001b[39mappend(lk)\n\u001b[0;32m   <a href='file:///c%3A/Users/jeevs/AppData/Local/Programs/Python/Python310/lib/site-packages/pandas/core/reshape/merge.py?line=1111'>1112</a>\u001b[0m \u001b[39melse\u001b[39;00m:\n\u001b[0;32m   <a href='file:///c%3A/Users/jeevs/AppData/Local/Programs/Python/Python310/lib/site-packages/pandas/core/reshape/merge.py?line=1112'>1113</a>\u001b[0m     \u001b[39m# work-around for merge_asof(left_index=True)\u001b[39;00m\n",
      "File \u001b[1;32mc:\\Users\\jeevs\\AppData\\Local\\Programs\\Python\\Python310\\lib\\site-packages\\pandas\\core\\generic.py:1840\u001b[0m, in \u001b[0;36mNDFrame._get_label_or_level_values\u001b[1;34m(self, key, axis)\u001b[0m\n\u001b[0;32m   <a href='file:///c%3A/Users/jeevs/AppData/Local/Programs/Python/Python310/lib/site-packages/pandas/core/generic.py?line=1837'>1838</a>\u001b[0m     values \u001b[39m=\u001b[39m \u001b[39mself\u001b[39m\u001b[39m.\u001b[39maxes[axis]\u001b[39m.\u001b[39mget_level_values(key)\u001b[39m.\u001b[39m_values\n\u001b[0;32m   <a href='file:///c%3A/Users/jeevs/AppData/Local/Programs/Python/Python310/lib/site-packages/pandas/core/generic.py?line=1838'>1839</a>\u001b[0m \u001b[39melse\u001b[39;00m:\n\u001b[1;32m-> <a href='file:///c%3A/Users/jeevs/AppData/Local/Programs/Python/Python310/lib/site-packages/pandas/core/generic.py?line=1839'>1840</a>\u001b[0m     \u001b[39mraise\u001b[39;00m \u001b[39mKeyError\u001b[39;00m(key)\n\u001b[0;32m   <a href='file:///c%3A/Users/jeevs/AppData/Local/Programs/Python/Python310/lib/site-packages/pandas/core/generic.py?line=1841'>1842</a>\u001b[0m \u001b[39m# Check for duplicates\u001b[39;00m\n\u001b[0;32m   <a href='file:///c%3A/Users/jeevs/AppData/Local/Programs/Python/Python310/lib/site-packages/pandas/core/generic.py?line=1842'>1843</a>\u001b[0m \u001b[39mif\u001b[39;00m values\u001b[39m.\u001b[39mndim \u001b[39m>\u001b[39m \u001b[39m1\u001b[39m:\n",
      "\u001b[1;31mKeyError\u001b[0m: 'movie_id'"
     ]
    }
   ],
   "source": [
    "# to get the actor data for movies, join the movies and actors dataframes\n",
    "\n",
    "movies = pd.read_csv(\"movies.csv\")\n",
    "actors = pd.read_csv(\"actors.csv\")\n",
    "\n",
    "pd.merge(movies, actors, how= 'righ', on='movie_id')"
   ]
  }
 ],
 "metadata": {
  "interpreter": {
   "hash": "ff8820d68103f65a32e220fbaf67767b0ea0975cfea834e25ea838c1356d577f"
  },
  "kernelspec": {
   "display_name": "Python 3.10.5 64-bit",
   "language": "python",
   "name": "python3"
  },
  "language_info": {
   "codemirror_mode": {
    "name": "ipython",
    "version": 3
   },
   "file_extension": ".py",
   "mimetype": "text/x-python",
   "name": "python",
   "nbconvert_exporter": "python",
   "pygments_lexer": "ipython3",
   "version": "3.10.5"
  },
  "orig_nbformat": 4
 },
 "nbformat": 4,
 "nbformat_minor": 2
}
